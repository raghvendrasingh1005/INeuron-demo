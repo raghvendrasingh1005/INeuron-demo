{
  "nbformat": 4,
  "nbformat_minor": 0,
  "metadata": {
    "colab": {
      "provenance": [],
      "authorship_tag": "ABX9TyPsVMMv/xPsbq18C6J1zukY",
      "include_colab_link": true
    },
    "kernelspec": {
      "name": "python3",
      "display_name": "Python 3"
    },
    "language_info": {
      "name": "python"
    }
  },
  "cells": [
    {
      "cell_type": "markdown",
      "metadata": {
        "id": "view-in-github",
        "colab_type": "text"
      },
      "source": [
        "<a href=\"https://colab.research.google.com/github/raghvendrasingh1005/INeuron-demo/blob/main/Assignment_11.ipynb\" target=\"_parent\"><img src=\"https://colab.research.google.com/assets/colab-badge.svg\" alt=\"Open In Colab\"/></a>"
      ]
    },
    {
      "cell_type": "markdown",
      "source": [
        "**Q1. Create an assert statement that throws an AssertionError if the variable spam is a negative integer.**"
      ],
      "metadata": {
        "id": "I0mreea85siZ"
      }
    },
    {
      "cell_type": "code",
      "source": [
        "def square(x):\n",
        "    assert x>=0, 'Only positive numbers are allowed'\n",
        "    return x*x\n",
        "\n",
        "try:\n",
        "    square(-2)\n",
        "except AssertionError as msg:\n",
        "    print(msg)"
      ],
      "metadata": {
        "colab": {
          "base_uri": "https://localhost:8080/"
        },
        "id": "LlbfcEac5vc3",
        "outputId": "312ab0b1-874e-425f-c2f9-eb0372ce6c3a"
      },
      "execution_count": 2,
      "outputs": [
        {
          "output_type": "stream",
          "name": "stdout",
          "text": [
            "Only positive numbers are allowed\n"
          ]
        }
      ]
    },
    {
      "cell_type": "markdown",
      "source": [
        "**Q2. Write an assert statement that triggers an AssertionError if the variables eggs and bacon contain strings that are the same as each other, even if their cases are different (that is, 'hello' and 'hello' are considered the same, and 'goodbye' and 'GOODbye' are also considered the same).**"
      ],
      "metadata": {
        "id": "hFZST8xF6NK3"
      }
    },
    {
      "cell_type": "code",
      "source": [
        "eggs = 'hello'\n",
        "bacon = 'good bye'\n",
        "\n",
        "# Raise an AssertError if they are not different.\n",
        "assert eggs.lower() != bacon.lower(), 'eggs/bacon should not be the same!'\n",
        "print(\"both parameters are not equal\")"
      ],
      "metadata": {
        "colab": {
          "base_uri": "https://localhost:8080/"
        },
        "id": "4akAhhnT6YDj",
        "outputId": "f1b97da2-530e-42f9-dbb8-d47f4a621094"
      },
      "execution_count": 15,
      "outputs": [
        {
          "output_type": "stream",
          "name": "stdout",
          "text": [
            "both parameters are not equal\n"
          ]
        }
      ]
    },
    {
      "cell_type": "markdown",
      "source": [
        "**3. Create an assert statement that throws an AssertionError every time.**\n",
        "\n",
        "**Ans.** assert True, 'Always triggers an AssertionError.'"
      ],
      "metadata": {
        "id": "q0CU7p0oBLLs"
      }
    },
    {
      "cell_type": "code",
      "source": [
        "# Using the try clause  \n",
        "try:  \n",
        "    x = 10  \n",
        "    y = 0  \n",
        "    assert y != 0, \"Dividing by Zero: Invalid input is given.\"  \n",
        "    print(x // y)  \n",
        "  \n",
        "  \n",
        "# Interpreter will print the error message given by the user  \n",
        "except AssertionError as e:  \n",
        "    print(e)  "
      ],
      "metadata": {
        "colab": {
          "base_uri": "https://localhost:8080/"
        },
        "id": "yhaDOSHjBROk",
        "outputId": "a62d8e4e-2a4f-4d52-be43-abcbb8b6e159"
      },
      "execution_count": 14,
      "outputs": [
        {
          "output_type": "stream",
          "name": "stdout",
          "text": [
            "Dividing by Zero: Invalid input is given.\n"
          ]
        }
      ]
    },
    {
      "cell_type": "markdown",
      "source": [
        "**4. What are the two lines that must be present in your software in order to call logging.debug()?**\n",
        "\n",
        "**Ans.** import logging"
      ],
      "metadata": {
        "id": "u0U0GfkiDMx-"
      }
    },
    {
      "cell_type": "markdown",
      "source": [
        "**5. What are the two lines that your program must have in order to have logging.debug() send a logging message to a file named programLog.txt?**\n",
        "\n"
      ],
      "metadata": {
        "id": "hCco99e8FuMk"
      }
    },
    {
      "cell_type": "code",
      "source": [
        "import logging\n",
        "logging.basicConfig(\n",
        "    filename='programLog.txt',\n",
        "    level=logging.DEBUG,\n",
        "    format='%(asctime)s - %(levelname)s - %(message)s'\n",
        ")"
      ],
      "metadata": {
        "id": "l5TMCO6zF0My"
      },
      "execution_count": null,
      "outputs": []
    },
    {
      "cell_type": "markdown",
      "source": [
        "**6. What are the five levels of logging?**\n",
        "\n",
        "**Ans.**\n",
        "\n",
        "logging.debug() - variable's state and small details                     \n",
        "logging.info() - general events, confirm a program is working            \n",
        "logging.warning() - potiental problem to work on in the future              \n",
        "logging.error() - record an error that caused program to fail to do something  \n",
        "logging.critical() - fatal error that has caused     "
      ],
      "metadata": {
        "id": "QWjeH6RuF6_q"
      }
    },
    {
      "cell_type": "markdown",
      "source": [
        "**7. What line of code would you add to your software to disable all logging messages?**"
      ],
      "metadata": {
        "id": "Iv4B72HbGMMg"
      }
    },
    {
      "cell_type": "code",
      "source": [
        "logging.disable(logging.DEBUG)"
      ],
      "metadata": {
        "id": "1eUXj2pWGeSc"
      },
      "execution_count": null,
      "outputs": []
    },
    {
      "cell_type": "markdown",
      "source": [
        "**8.Why is using logging messages better than using print() to display the same message?**\n",
        "\n",
        "**Ans.**\n",
        "\n",
        "Because with print, when your program is ready for production, you still have to \"remove\" or comment it out. \n",
        "Verses logging message, you can toggle the setting on/off or write to a file (send to a server).\n",
        "It is more flexible especially with logging level 1-5."
      ],
      "metadata": {
        "id": "LZLcmcdBGfg-"
      }
    },
    {
      "cell_type": "markdown",
      "source": [
        "**9. What are the differences between the Step Over, Step In, and Step Out buttons in the debugger?**\n",
        "\n",
        "**Ans.**\n",
        "**Step** - one line execution at a time                                       \n",
        "**Over** - excecute the next line of code, but if it is a program, it will      \n",
        "        complete the entire function call.                                 \n",
        "**out**  - execute the lines of code unti it returns from the current function.   \n",
        "        (out is useful when you stepped into a function call)."
      ],
      "metadata": {
        "id": "J6qkWhb4HHSX"
      }
    },
    {
      "cell_type": "markdown",
      "source": [
        "**10.After you click Continue, when will the debugger stop ?**\n",
        "\n",
        "**Ans.**\n",
        "\n",
        "Go runs until the program terminate or reaches a breakpoint set."
      ],
      "metadata": {
        "id": "e9uwEhQtH00e"
      }
    },
    {
      "cell_type": "markdown",
      "source": [
        "**11. What is the concept of a breakpoint?**\n",
        "\n",
        "**Ans.**\n",
        "When you have Debugger enabled and you can right click on any lines\n",
        "to create a breakpoint. During Go - it will stop there and await your next\n",
        "command."
      ],
      "metadata": {
        "id": "3mqS8xLzIGtL"
      }
    }
  ]
}