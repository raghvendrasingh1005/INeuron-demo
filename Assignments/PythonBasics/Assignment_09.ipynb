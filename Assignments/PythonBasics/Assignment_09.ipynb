{
  "nbformat": 4,
  "nbformat_minor": 0,
  "metadata": {
    "colab": {
      "provenance": []
    },
    "kernelspec": {
      "name": "python3",
      "display_name": "Python 3"
    },
    "language_info": {
      "name": "python"
    }
  },
  "cells": [
    {
      "cell_type": "markdown",
      "source": [
        "**1. To what does a relative path refer?**\n",
        "\n",
        "**Ans.** \n",
        "\n",
        "A relative path in Python is a path that describes the location of a directory relative to the entry point where you run the Python script."
      ],
      "metadata": {
        "id": "u8oCUpWqSTj-"
      }
    },
    {
      "cell_type": "markdown",
      "source": [
        "**2. What does an absolute path start with your operating system?**\n",
        "\n",
        "**Ans.**\n",
        "\n",
        "An absolute path is a path that contains the entire path to the file or directory that you need to access. This path will begin at the home directory of your computer and will end with the file or directory that you wish to access. Absolute paths ensure that Python can find the exact file on your computer.\n",
        "\n",
        "Eg:\n",
        "/home/your-username/earth-analytics/data/field-sites/california/colorado/streams.csv"
      ],
      "metadata": {
        "id": "VcwT7PDDSfZc"
      }
    },
    {
      "cell_type": "markdown",
      "source": [
        "**3. What do the functions os.getcwd() and os.chdir() do?**\n",
        "\n",
        "**Ans:**\n",
        "\n",
        "**getcwd():** CWD stands for Current Working Directory. This function allows you to see what your current working directory is.\n",
        "\n",
        "**chdir(\"path-to-dir\"):** Short for CHange DIRectory, this function allows you to set the current working directory to a path of your choice."
      ],
      "metadata": {
        "id": "4Gqh_f6CUXYZ"
      }
    },
    {
      "cell_type": "markdown",
      "source": [
        "**4. What are the . and .. folders?**\n",
        "\n",
        "**Ans:**\n",
        "\n",
        "'.' represents the current directory. \n",
        "\n",
        "While '..' represents the parent directory."
      ],
      "metadata": {
        "id": "Ve2hisjSV0bE"
      }
    },
    {
      "cell_type": "markdown",
      "source": [
        "**5. In C:\\bacon\\eggs\\spam.txt, which part is the dir name, and which part is the base name?**\n",
        "\n",
        "**Ans:**\n",
        "\n",
        "**C:\\bacon\\eggs** is the dir name. while **spam.txt** is the base name."
      ],
      "metadata": {
        "id": "_5IpwpoTWWxw"
      }
    },
    {
      "cell_type": "markdown",
      "source": [
        "**6. What are the three “mode” arguments that can be passed to the open() function?**\n",
        "\n",
        "**Ans:**\n",
        "\n",
        "The string 'r' for read mode, 'w' for write mode, and 'a' for append mode"
      ],
      "metadata": {
        "id": "wPfx3xdAXBci"
      }
    },
    {
      "cell_type": "markdown",
      "source": [
        "**7. What happens if an existing file is opened in write mode?**\n",
        "\n",
        "**Ans:**\n",
        "\n",
        "An existing file opened in write mode is erased and completely overwritten."
      ],
      "metadata": {
        "id": "S98mK9ulXYc8"
      }
    },
    {
      "cell_type": "markdown",
      "source": [
        "**8. How do you tell the difference between read() and readlines()?**\n",
        "\n",
        "**Ans:**\n",
        "\n",
        "The read() method returns the file's entire contents as a single string value.\n",
        "\n",
        "The readlines() method returns a list of strings, where each string is a line from the file's contents."
      ],
      "metadata": {
        "id": "6h6Pj4kXXkLf"
      }
    },
    {
      "cell_type": "markdown",
      "source": [
        "**9. What data structure does a shelf value resemble?**\n",
        "\n",
        "**Ans:**\n",
        "\n",
        "A shelf value resembles a dictionary value; it has keys and values, along with keys() and values() methods that work similarly to the dictionary methods of the same names."
      ],
      "metadata": {
        "id": "_VKfLu0SX5bq"
      }
    }
  ]
}