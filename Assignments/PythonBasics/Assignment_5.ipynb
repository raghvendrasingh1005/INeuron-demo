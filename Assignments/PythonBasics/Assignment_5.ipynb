{
  "nbformat": 4,
  "nbformat_minor": 0,
  "metadata": {
    "colab": {
      "provenance": []
    },
    "kernelspec": {
      "name": "python3",
      "display_name": "Python 3"
    },
    "language_info": {
      "name": "python"
    }
  },
  "cells": [
    {
      "cell_type": "markdown",
      "source": [
        "**1. What does an empty dictionary's code look like?**"
      ],
      "metadata": {
        "id": "u7h9vbOtc3HZ"
      }
    },
    {
      "cell_type": "code",
      "source": [
        "#create an empty dictionary\n",
        "dict1 = {}\n",
        "\n",
        "#to check the data type \n",
        "print(type(dict1))"
      ],
      "metadata": {
        "colab": {
          "base_uri": "https://localhost:8080/"
        },
        "id": "P_6zbhZac-ut",
        "outputId": "45cfaed5-b954-4935-9a36-b3b0826df15f"
      },
      "execution_count": null,
      "outputs": [
        {
          "output_type": "stream",
          "name": "stdout",
          "text": [
            "<class 'dict'>\n"
          ]
        }
      ]
    },
    {
      "cell_type": "markdown",
      "source": [
        "**2. What is the value of a dictionary value with the key 'foo' and the value 42?**"
      ],
      "metadata": {
        "id": "1vd2Jk5cd7BZ"
      }
    },
    {
      "cell_type": "code",
      "source": [
        "my_dict = {'foo': 42}\n",
        "print(my_dict)"
      ],
      "metadata": {
        "colab": {
          "base_uri": "https://localhost:8080/"
        },
        "id": "LXVaOXqGeJYC",
        "outputId": "a2ceb49f-c002-4b99-c2c0-2a4f4987bb31"
      },
      "execution_count": null,
      "outputs": [
        {
          "output_type": "stream",
          "name": "stdout",
          "text": [
            "{'foo': 42}\n"
          ]
        }
      ]
    },
    {
      "cell_type": "markdown",
      "source": [
        "**3. What is the most significant distinction between a dictionary and a list?**\n",
        "\n",
        "**Ans.**\n",
        "\n",
        "The list is an ordered collection of data, whereas the dictionaries store the data in the form of key-value pairs using the hashtable structure.\n"
      ],
      "metadata": {
        "id": "7BtVxC06eAAO"
      }
    },
    {
      "cell_type": "code",
      "source": [
        "# create a list\n",
        "l1 = ['I', 'like', 'Apple']\n",
        "\n",
        "print(l1)\n",
        "\n",
        "# create a dictionary\n",
        "d1 = {\n",
        "    \"Fruit\" : \"Apple\",\n",
        "    \"King_of_fruits\" : \"Mango\",\n",
        "    \"Seasonal_fruit\" : \"Strawberry\"\n",
        "}\n",
        "\n",
        "print(d1)\n"
      ],
      "metadata": {
        "colab": {
          "base_uri": "https://localhost:8080/"
        },
        "id": "RHCb-d9dKLbI",
        "outputId": "f731439a-2b2e-49c3-be49-1a6a6dcf639f"
      },
      "execution_count": null,
      "outputs": [
        {
          "output_type": "stream",
          "name": "stdout",
          "text": [
            "['I', 'like', 'Apple']\n",
            "{'Fruit': 'Apple', 'King_of_fruits': 'Mango', 'Seasonal_fruit': 'Strawberry'}\n"
          ]
        }
      ]
    },
    {
      "cell_type": "markdown",
      "source": [
        "**4. What happens if you try to access spam['foo'] if spam is {'bar': 100}?**\n",
        "\n",
        "**Ans.** \n",
        "\n",
        "It will give you a KeyError error."
      ],
      "metadata": {
        "id": "Bd9XCn6PeHZr"
      }
    },
    {
      "cell_type": "code",
      "source": [
        "spam = {'bar':100}\n",
        "\n",
        "print(spam['foo'])"
      ],
      "metadata": {
        "id": "ymfCnm7PeRg8",
        "colab": {
          "base_uri": "https://localhost:8080/",
          "height": 200
        },
        "outputId": "56bfe7ca-1cc7-4bbc-c131-e3f10ffa0d41"
      },
      "execution_count": null,
      "outputs": [
        {
          "output_type": "error",
          "ename": "KeyError",
          "evalue": "ignored",
          "traceback": [
            "\u001b[0;31m---------------------------------------------------------------------------\u001b[0m",
            "\u001b[0;31mKeyError\u001b[0m                                  Traceback (most recent call last)",
            "\u001b[0;32m<ipython-input-1-f761e574e1ee>\u001b[0m in \u001b[0;36m<module>\u001b[0;34m\u001b[0m\n\u001b[1;32m      1\u001b[0m \u001b[0mspam\u001b[0m \u001b[0;34m=\u001b[0m \u001b[0;34m{\u001b[0m\u001b[0;34m'bar'\u001b[0m\u001b[0;34m:\u001b[0m\u001b[0;36m100\u001b[0m\u001b[0;34m}\u001b[0m\u001b[0;34m\u001b[0m\u001b[0;34m\u001b[0m\u001b[0m\n\u001b[1;32m      2\u001b[0m \u001b[0;34m\u001b[0m\u001b[0m\n\u001b[0;32m----> 3\u001b[0;31m \u001b[0mprint\u001b[0m\u001b[0;34m(\u001b[0m\u001b[0mspam\u001b[0m\u001b[0;34m[\u001b[0m\u001b[0;34m'foo'\u001b[0m\u001b[0;34m]\u001b[0m\u001b[0;34m)\u001b[0m\u001b[0;34m\u001b[0m\u001b[0;34m\u001b[0m\u001b[0m\n\u001b[0m",
            "\u001b[0;31mKeyError\u001b[0m: 'foo'"
          ]
        }
      ]
    },
    {
      "cell_type": "markdown",
      "source": [
        "**5. If a dictionary is stored in spam, what is the difference between the expressions 'cat' in spam and 'cat' in spam.keys()?**\n",
        "\n",
        "**Ans.**\n",
        "\n",
        "There is no difference. The in operator checks whether a value exists as a key in the dictionary. 'cat' in spam checks whether there is a 'cat' key in the dictionary."
      ],
      "metadata": {
        "id": "WAZeZL9BeSdw"
      }
    },
    {
      "cell_type": "code",
      "source": [
        "spam = {'cat': 100}\n",
        "'cat' in spam"
      ],
      "metadata": {
        "id": "18tJbvoReY15",
        "colab": {
          "base_uri": "https://localhost:8080/"
        },
        "outputId": "e24cf2e6-90c2-4d79-e4cb-2eb1d498bc05"
      },
      "execution_count": null,
      "outputs": [
        {
          "output_type": "execute_result",
          "data": {
            "text/plain": [
              "True"
            ]
          },
          "metadata": {},
          "execution_count": 2
        }
      ]
    },
    {
      "cell_type": "code",
      "source": [
        "spam = {'cat': 100}\n",
        "'cat' in spam.keys()\n"
      ],
      "metadata": {
        "colab": {
          "base_uri": "https://localhost:8080/"
        },
        "id": "YHD8ypcjN7x9",
        "outputId": "5a825b3f-1619-4c9f-a5dc-71f7911efcaf"
      },
      "execution_count": null,
      "outputs": [
        {
          "output_type": "execute_result",
          "data": {
            "text/plain": [
              "True"
            ]
          },
          "metadata": {},
          "execution_count": 3
        }
      ]
    },
    {
      "cell_type": "markdown",
      "source": [
        "**6. If a dictionary is stored in spam, what is the difference between the expressions 'cat' in spam and 'cat' in spam.values()?**\n",
        "\n",
        "**Ans.**\n",
        "\n",
        "'cat' in spam checks whether there is a 'cat' key in the dictionary\n",
        "'cat' in spam.values() checks whether there is a value 'cat' for one of the keys in spam."
      ],
      "metadata": {
        "id": "UuPVufHDeXgl"
      }
    },
    {
      "cell_type": "code",
      "source": [
        "spam = {'cat': 100}\n",
        "'cat' in spam"
      ],
      "metadata": {
        "id": "902EYjMredyk",
        "colab": {
          "base_uri": "https://localhost:8080/"
        },
        "outputId": "ff253c37-7670-4b45-efa0-57780a96218c"
      },
      "execution_count": null,
      "outputs": [
        {
          "output_type": "execute_result",
          "data": {
            "text/plain": [
              "True"
            ]
          },
          "metadata": {},
          "execution_count": 4
        }
      ]
    },
    {
      "cell_type": "code",
      "source": [
        "spam = {'cat': 100}\n",
        "'cat' in spam.values()"
      ],
      "metadata": {
        "colab": {
          "base_uri": "https://localhost:8080/"
        },
        "id": "kJ0kbsaaOOap",
        "outputId": "873ccbec-2930-4891-d90b-9bccad21c2e3"
      },
      "execution_count": null,
      "outputs": [
        {
          "output_type": "execute_result",
          "data": {
            "text/plain": [
              "False"
            ]
          },
          "metadata": {},
          "execution_count": 5
        }
      ]
    },
    {
      "cell_type": "markdown",
      "source": [
        "**7. What is a shortcut for the following code?**\n",
        "\n",
        "if 'color' not in spam:                                                       \n",
        "spam['color'] = 'black'\n"
      ],
      "metadata": {
        "id": "zgwlICDkeeqE"
      }
    },
    {
      "cell_type": "code",
      "source": [
        "spam ={'cat':100}\n",
        "spam.setdefault('color', 'black')\n",
        "print(spam)\n"
      ],
      "metadata": {
        "id": "Dv3PNWx7gzMV",
        "colab": {
          "base_uri": "https://localhost:8080/"
        },
        "outputId": "96af9ec9-3830-48a7-cdb6-383495f301c5"
      },
      "execution_count": null,
      "outputs": [
        {
          "output_type": "stream",
          "name": "stdout",
          "text": [
            "{'cat': 100, 'color': 'black'}\n"
          ]
        }
      ]
    },
    {
      "cell_type": "markdown",
      "source": [
        "**8. How do you \"pretty print\" dictionary values using which module and function?**"
      ],
      "metadata": {
        "id": "VJK8sYNSei_f"
      }
    },
    {
      "cell_type": "code",
      "source": [
        "# printing with pprint()\n",
        "import pprint\n",
        "\n",
        "dct_arr = [\n",
        "  {'Name': 'John', 'Age': '23', 'Country': 'USA'},\n",
        "  {'Name': 'Dron', 'Age': '44', 'Country': 'Nepal'},\n",
        "  {'Name': 'Anne', 'Age': '29', 'Country': 'UK'},\n",
        "  {'Name': 'Ram', 'Age': '35', 'Country': 'India'}\n",
        "]\n",
        "\n",
        "pprint.pprint(dct_arr)"
      ],
      "metadata": {
        "colab": {
          "base_uri": "https://localhost:8080/"
        },
        "id": "x7IAYYqqfUpQ",
        "outputId": "12591154-f3eb-4669-cec8-e692a62006d2"
      },
      "execution_count": null,
      "outputs": [
        {
          "output_type": "stream",
          "name": "stdout",
          "text": [
            "[{'Age': '23', 'Country': 'USA', 'Name': 'John'},\n",
            " {'Age': '44', 'Country': 'Nepal', 'Name': 'Dron'},\n",
            " {'Age': '29', 'Country': 'UK', 'Name': 'Anne'},\n",
            " {'Age': '35', 'Country': 'India', 'Name': 'Ram'}]\n"
          ]
        }
      ]
    },
    {
      "cell_type": "code",
      "source": [
        "# printing with print()\n",
        "dct_arr = [\n",
        "  {'Name': 'John', 'Age': '23', 'Country': 'USA'},\n",
        "  {'Name': 'Dron', 'Age': '44', 'Country': 'Nepal'},\n",
        "  {'Name': 'Anne', 'Age': '29', 'Country': 'UK'},\n",
        "  {'Name': 'Ram', 'Age': '35', 'Country': 'India'}\n",
        "]\n",
        "\n",
        "print(dct_arr)"
      ],
      "metadata": {
        "colab": {
          "base_uri": "https://localhost:8080/"
        },
        "id": "olmd2Qy5QPWQ",
        "outputId": "18edcce5-8321-44ac-a1b5-fd0df6657af2"
      },
      "execution_count": null,
      "outputs": [
        {
          "output_type": "stream",
          "name": "stdout",
          "text": [
            "[{'Name': 'John', 'Age': '23', 'Country': 'USA'}, {'Name': 'Dron', 'Age': '44', 'Country': 'Nepal'}, {'Name': 'Anne', 'Age': '29', 'Country': 'UK'}, {'Name': 'Ram', 'Age': '35', 'Country': 'India'}]\n"
          ]
        }
      ]
    }
  ]
}