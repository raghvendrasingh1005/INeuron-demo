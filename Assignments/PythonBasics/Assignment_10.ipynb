{
  "nbformat": 4,
  "nbformat_minor": 0,
  "metadata": {
    "colab": {
      "provenance": []
    },
    "kernelspec": {
      "name": "python3",
      "display_name": "Python 3"
    },
    "language_info": {
      "name": "python"
    }
  },
  "cells": [
    {
      "cell_type": "markdown",
      "source": [
        "**Q1. How do you distinguish between shutil.copy() and shutil.copytree()?**"
      ],
      "metadata": {
        "id": "Ww6c0IY6sP7P"
      }
    },
    {
      "cell_type": "markdown",
      "source": [
        "**Ans:** While shutil. copy() will copy a single file, shutil. copytree() will copy an entire folder and every folder and file contained in it."
      ],
      "metadata": {
        "id": "vEwYvWKYsNym"
      }
    },
    {
      "cell_type": "markdown",
      "source": [
        "**2. What function is used to rename files??**\n",
        "\n",
        "**Ans.** Using os.rename() method to rename file"
      ],
      "metadata": {
        "id": "_NObQebgtvw6"
      }
    },
    {
      "cell_type": "code",
      "source": [
        "# importing the os module\n",
        "import os\n",
        "\n",
        "# Source\n",
        "src = 'filee.text'\n",
        "\n",
        "# Destination\n",
        "dest = 'file.txt'\n",
        "\n",
        "# Renaming the file\n",
        "os.rename(src, dest)\n",
        "print (\"The file has been renamed.\")"
      ],
      "metadata": {
        "id": "FJKL349DuOkL"
      },
      "execution_count": null,
      "outputs": []
    },
    {
      "cell_type": "markdown",
      "source": [
        "**Q3. What is the difference between the delete functions in the send2trash and shutil modules?**\n",
        "\n",
        "**Ans.** The send2trash functions will move a file or folder to the recycle bin, while shutil functions will permanently delete files and folders."
      ],
      "metadata": {
        "id": "Ke8rHH2huuB_"
      }
    },
    {
      "cell_type": "markdown",
      "source": [
        "**Q4.ZipFile objects have a close() method just like File objects’ close() method. What ZipFile method is equivalent to File objects’ open() method?**\n",
        "\n",
        "**Ans.** \n",
        "The zipfile. ZipFile() function is equivalent to the open() function; the first argument is the filename, and the second argument is the mode to open the ZIP file in (read, write, or append)."
      ],
      "metadata": {
        "id": "fFHdGwOhvOx5"
      }
    },
    {
      "cell_type": "markdown",
      "source": [
        "**Q5. Create a programme that searches a folder tree for files with a certain file extension (such as .pdf or .jpg). Copy these files from whatever location they are in to a new folder.**\n",
        "\n",
        "**Ans.**\n"
      ],
      "metadata": {
        "id": "1axhSgVt2_Us"
      }
    },
    {
      "cell_type": "code",
      "source": [
        "import os, shutil\n",
        "\n",
        "def selectiveCopy(folder, extensions, destFolder):\n",
        "\tfolder = os.path.abspath(folder)\n",
        "\tdestFolder = os.path.abspath(destFolder)\n",
        "\tprint('Looking in', folder, 'for files with extensions of', ', '.join(extensions))\n",
        "\tfor foldername, subfolders, filenames in os.walk(folder):\n",
        "\t\tfor filename in filenames:\n",
        "\t\t\tname, extension = os.path.splitext(filename)\n",
        "\t\t\tif extension in extensions:\n",
        "\t\t\t\tfileAbsPath = foldername + os.path.sep + filename\n",
        "\t\t\t\tprint('Coping', fileAbsPath, 'to', destFolder)\n",
        "\t\t\t\tshutil.copy(fileAbsPath, destFolder)\n",
        "\n",
        "extensions = ['.php', '.py']\n",
        "folder = 'randomFolder'\n",
        "destFolder = 'selectiveFolder'\n",
        "selectiveCopy(folder, extensions, destFolder)"
      ],
      "metadata": {
        "colab": {
          "base_uri": "https://localhost:8080/"
        },
        "id": "kWm_u5rT3fMu",
        "outputId": "7ccb8557-9d87-43fb-b611-8ce75eaed53c"
      },
      "execution_count": 1,
      "outputs": [
        {
          "output_type": "stream",
          "name": "stdout",
          "text": [
            "Looking in /content/randomFolder for files with extensions of .php, .py\n"
          ]
        }
      ]
    }
  ]
}