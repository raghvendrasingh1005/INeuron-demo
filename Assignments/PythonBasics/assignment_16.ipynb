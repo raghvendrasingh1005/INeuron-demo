{
  "nbformat": 4,
  "nbformat_minor": 0,
  "metadata": {
    "colab": {
      "provenance": []
    },
    "kernelspec": {
      "name": "python3",
      "display_name": "Python 3"
    },
    "language_info": {
      "name": "python"
    }
  },
  "cells": [
    {
      "cell_type": "markdown",
      "source": [
        "**1. Create a list called years_list, starting with the year of your birth, and each year thereafter until the year of your fifth birthday. For example, if you were born in 1980. the list would be years_list = [1980, 1981, 1982, 1983, 1984, 1985].**"
      ],
      "metadata": {
        "id": "V5NVpA8lyHxC"
      }
    },
    {
      "cell_type": "code",
      "source": [
        "years_list = [i for i in range(1981, 1981+6)]\n",
        "years_list"
      ],
      "metadata": {
        "colab": {
          "base_uri": "https://localhost:8080/"
        },
        "id": "hxi3pKiUyPht",
        "outputId": "15e88d0f-117e-4ec2-ba20-ff186db0b521"
      },
      "execution_count": null,
      "outputs": [
        {
          "output_type": "execute_result",
          "data": {
            "text/plain": [
              "[1981, 1982, 1983, 1984, 1985, 1986]"
            ]
          },
          "metadata": {},
          "execution_count": 2
        }
      ]
    },
    {
      "cell_type": "markdown",
      "source": [
        "**2. In which year in years_list was your third birthday? Remember, you were 0 years of age for your first year.**"
      ],
      "metadata": {
        "id": "zEMop-n5ys7w"
      }
    },
    {
      "cell_type": "code",
      "source": [
        "years_list[3]"
      ],
      "metadata": {
        "colab": {
          "base_uri": "https://localhost:8080/"
        },
        "id": "4Bhol9VHyxMF",
        "outputId": "2b9e9135-8456-403a-b2d1-ce1607fc70ba"
      },
      "execution_count": null,
      "outputs": [
        {
          "output_type": "execute_result",
          "data": {
            "text/plain": [
              "1984"
            ]
          },
          "metadata": {},
          "execution_count": 3
        }
      ]
    },
    {
      "cell_type": "markdown",
      "source": [
        "**3.In the years list, which year were you the oldest?**"
      ],
      "metadata": {
        "id": "wAdoKVn1zHgf"
      }
    },
    {
      "cell_type": "code",
      "source": [
        "max(years_list)"
      ],
      "metadata": {
        "colab": {
          "base_uri": "https://localhost:8080/"
        },
        "id": "I9uRYzArzLe4",
        "outputId": "635073c5-bfd1-4f44-f958-bebf7352b206"
      },
      "execution_count": null,
      "outputs": [
        {
          "output_type": "execute_result",
          "data": {
            "text/plain": [
              "1986"
            ]
          },
          "metadata": {},
          "execution_count": 6
        }
      ]
    },
    {
      "cell_type": "markdown",
      "source": [
        "**4. Make a list called things with these three strings as elements: \"mozzarella\", \"cinderella\", \"salmonella\".**"
      ],
      "metadata": {
        "id": "jikFDvDrzeWi"
      }
    },
    {
      "cell_type": "code",
      "source": [
        "things = ['mozzarella', 'cinderella','salmonella']\n",
        "things"
      ],
      "metadata": {
        "colab": {
          "base_uri": "https://localhost:8080/"
        },
        "id": "o2S6LqyHzjJq",
        "outputId": "db7318e1-c81a-4907-8bac-bf1eed5bb68b"
      },
      "execution_count": null,
      "outputs": [
        {
          "output_type": "execute_result",
          "data": {
            "text/plain": [
              "['mozzarella', 'cinderella', 'salmonella']"
            ]
          },
          "metadata": {},
          "execution_count": 14
        }
      ]
    },
    {
      "cell_type": "markdown",
      "source": [
        "**5. Capitalize the element in things that refers to a person and then print the list. Did it change the element in the list?**"
      ],
      "metadata": {
        "id": "8dPVFDF70fUE"
      }
    },
    {
      "cell_type": "code",
      "source": [
        "for i in things:\n",
        "    print(i.capitalize())\n",
        "things\n"
      ],
      "metadata": {
        "colab": {
          "base_uri": "https://localhost:8080/"
        },
        "id": "fzjH13Bs0krz",
        "outputId": "7f949007-7f19-4568-df08-6bb628324ff1"
      },
      "execution_count": null,
      "outputs": [
        {
          "output_type": "stream",
          "name": "stdout",
          "text": [
            "Mozzarella\n",
            "Cinderella\n",
            "Salmonella\n"
          ]
        },
        {
          "output_type": "execute_result",
          "data": {
            "text/plain": [
              "['mozzarella', 'cinderella', 'salmonella']"
            ]
          },
          "metadata": {},
          "execution_count": 15
        }
      ]
    },
    {
      "cell_type": "markdown",
      "source": [
        "**6. Make a surprise list with the elements \"Groucho,\" \"Chico,\" and \"Harpo.\"**"
      ],
      "metadata": {
        "id": "TckVkop40-de"
      }
    },
    {
      "cell_type": "code",
      "source": [
        "surprise_list = [\"Groucho\", \"Chico\", \"Harpo\"]\n",
        "surprise_list"
      ],
      "metadata": {
        "colab": {
          "base_uri": "https://localhost:8080/"
        },
        "id": "8OgvTmlm1a6M",
        "outputId": "5e6feb0c-2ed9-4277-b80b-41a13bad41da"
      },
      "execution_count": null,
      "outputs": [
        {
          "output_type": "execute_result",
          "data": {
            "text/plain": [
              "['Groucho', 'Chico', 'Harpo']"
            ]
          },
          "metadata": {},
          "execution_count": 16
        }
      ]
    },
    {
      "cell_type": "markdown",
      "source": [
        "**7. Lowercase the last element of the surprise list, reverse it, and then capitalize it.**"
      ],
      "metadata": {
        "id": "fZ_AH6VB14bC"
      }
    },
    {
      "cell_type": "code",
      "source": [
        "surprise_list = [\"Groucho\", \"Chico\", \"Harpo\"]\n",
        "\n",
        "surprise_list[-1].lower()"
      ],
      "metadata": {
        "colab": {
          "base_uri": "https://localhost:8080/",
          "height": 35
        },
        "id": "ZBLsQxwA165d",
        "outputId": "f39c9554-437b-4290-da33-a1230315b08b"
      },
      "execution_count": null,
      "outputs": [
        {
          "output_type": "execute_result",
          "data": {
            "text/plain": [
              "'harpo'"
            ],
            "application/vnd.google.colaboratory.intrinsic+json": {
              "type": "string"
            }
          },
          "metadata": {},
          "execution_count": 17
        }
      ]
    },
    {
      "cell_type": "code",
      "source": [
        "surprise_list[-1][::-1]"
      ],
      "metadata": {
        "colab": {
          "base_uri": "https://localhost:8080/",
          "height": 35
        },
        "id": "eL70MX4F2WNj",
        "outputId": "2976e509-eb8a-4895-d5f7-4232ca9fdaf2"
      },
      "execution_count": null,
      "outputs": [
        {
          "output_type": "execute_result",
          "data": {
            "text/plain": [
              "'opraH'"
            ],
            "application/vnd.google.colaboratory.intrinsic+json": {
              "type": "string"
            }
          },
          "metadata": {},
          "execution_count": 18
        }
      ]
    },
    {
      "cell_type": "code",
      "source": [
        "surprise_list[-1][::-1].upper()"
      ],
      "metadata": {
        "colab": {
          "base_uri": "https://localhost:8080/",
          "height": 35
        },
        "id": "1a1IbkmC2V1k",
        "outputId": "33a4726e-a5b7-4f60-d30f-75f5a679e15d"
      },
      "execution_count": null,
      "outputs": [
        {
          "output_type": "execute_result",
          "data": {
            "text/plain": [
              "'OPRAH'"
            ],
            "application/vnd.google.colaboratory.intrinsic+json": {
              "type": "string"
            }
          },
          "metadata": {},
          "execution_count": 20
        }
      ]
    },
    {
      "cell_type": "markdown",
      "source": [
        "**8. Make an English-to-French dictionary called e2f and print it. Here are your starter words: dog is chien, cat is chat, and walrus is morse.**"
      ],
      "metadata": {
        "id": "fRWleVkQ2vv2"
      }
    },
    {
      "cell_type": "code",
      "source": [
        "e2f = {'dog':'chien','cat':'chat','walrus':'morse'}"
      ],
      "metadata": {
        "id": "erLHHoDN27gO"
      },
      "execution_count": null,
      "outputs": []
    },
    {
      "cell_type": "markdown",
      "source": [
        "**9. Write the French word for walrus in your three-word dictionary e2f.**"
      ],
      "metadata": {
        "id": "qlLj78cO3qwK"
      }
    },
    {
      "cell_type": "code",
      "source": [
        "e2f['walrus']"
      ],
      "metadata": {
        "colab": {
          "base_uri": "https://localhost:8080/",
          "height": 35
        },
        "id": "vfOnTWgJ3tns",
        "outputId": "f2146136-5ffc-4832-9915-bbe1ab5d51f6"
      },
      "execution_count": null,
      "outputs": [
        {
          "output_type": "execute_result",
          "data": {
            "text/plain": [
              "'morse'"
            ],
            "application/vnd.google.colaboratory.intrinsic+json": {
              "type": "string"
            }
          },
          "metadata": {},
          "execution_count": 22
        }
      ]
    },
    {
      "cell_type": "markdown",
      "source": [
        "**10. Make a French-to-English dictionary called f2e from e2f. Use the items method.**"
      ],
      "metadata": {
        "id": "K2oFNyyi37mv"
      }
    },
    {
      "cell_type": "code",
      "source": [
        "f2e = dict((key,value) for value,key in e2f.items())\n",
        "f2e"
      ],
      "metadata": {
        "colab": {
          "base_uri": "https://localhost:8080/"
        },
        "id": "UDWEXjyF35-0",
        "outputId": "28499d74-e6eb-4ca9-ddba-0f207acb6e0e"
      },
      "execution_count": null,
      "outputs": [
        {
          "output_type": "execute_result",
          "data": {
            "text/plain": [
              "{'chien': 'dog', 'chat': 'cat', 'morse': 'walrus'}"
            ]
          },
          "metadata": {},
          "execution_count": 24
        }
      ]
    },
    {
      "cell_type": "markdown",
      "source": [
        "**11. Print the English version of the French word chien using f2e.**"
      ],
      "metadata": {
        "id": "xebj8img4Siy"
      }
    },
    {
      "cell_type": "code",
      "source": [
        "\n",
        "f2e['chien']"
      ],
      "metadata": {
        "colab": {
          "base_uri": "https://localhost:8080/",
          "height": 35
        },
        "id": "N71gGThI4W-A",
        "outputId": "307c13c0-17a5-4ee9-b34d-09e77d3ef8ee"
      },
      "execution_count": null,
      "outputs": [
        {
          "output_type": "execute_result",
          "data": {
            "text/plain": [
              "'dog'"
            ],
            "application/vnd.google.colaboratory.intrinsic+json": {
              "type": "string"
            }
          },
          "metadata": {},
          "execution_count": 25
        }
      ]
    },
    {
      "cell_type": "markdown",
      "source": [
        "**12. Make and print a set of English words from the keys in e2f.**"
      ],
      "metadata": {
        "id": "JnABk7T64xnv"
      }
    },
    {
      "cell_type": "code",
      "source": [
        "e2f.keys()"
      ],
      "metadata": {
        "colab": {
          "base_uri": "https://localhost:8080/"
        },
        "id": "9sCpB59e41PI",
        "outputId": "5b322a05-b0df-430a-ed47-0058bc15385a"
      },
      "execution_count": null,
      "outputs": [
        {
          "output_type": "execute_result",
          "data": {
            "text/plain": [
              "dict_keys(['dog', 'cat', 'walrus'])"
            ]
          },
          "metadata": {},
          "execution_count": 26
        }
      ]
    },
    {
      "cell_type": "markdown",
      "source": [
        "**13. Make a multilevel dictionary called life. Use these strings for the topmost keys: 'animals', 'plants', and 'other'. Make the 'animals' key refer to another dictionary with the keys 'cats', 'octopi', and 'emus'. Make the 'cats' key refer to a list of strings with the values 'Henri', 'Grumpy', and 'Lucy'. Make all the other keys refer to empty dictionaries.**"
      ],
      "metadata": {
        "id": "QQqAnAXz5Ao-"
      }
    },
    {
      "cell_type": "code",
      "source": [
        "life ={'animals':{'cat':['Henri', 'Grumpy', 'Lucy'], 'octopi':'', 'emus':''},\n",
        "       'plants' :'',\n",
        "       'other' :'' }\n",
        "life\n"
      ],
      "metadata": {
        "colab": {
          "base_uri": "https://localhost:8080/"
        },
        "id": "rJZAfBYu5Fkk",
        "outputId": "1c30ea10-c17a-4ea4-faa9-5fbb6a1b7a8a"
      },
      "execution_count": null,
      "outputs": [
        {
          "output_type": "execute_result",
          "data": {
            "text/plain": [
              "{'animals': {'cat': ['Henri', 'Grumpy', 'Lucy'], 'octopi': '', 'emus': ''},\n",
              " 'plants': '',\n",
              " 'other': ''}"
            ]
          },
          "metadata": {},
          "execution_count": 27
        }
      ]
    },
    {
      "cell_type": "markdown",
      "source": [
        "**14. Print the top-level keys of life.**"
      ],
      "metadata": {
        "id": "apQAmeYz5XCT"
      }
    },
    {
      "cell_type": "code",
      "source": [
        "life.keys()"
      ],
      "metadata": {
        "colab": {
          "base_uri": "https://localhost:8080/"
        },
        "id": "Z6vJCJNk5bCs",
        "outputId": "55f7f491-c638-4df4-d311-ee14145c1afa"
      },
      "execution_count": null,
      "outputs": [
        {
          "output_type": "execute_result",
          "data": {
            "text/plain": [
              "dict_keys(['animals', 'plants', 'other'])"
            ]
          },
          "metadata": {},
          "execution_count": 28
        }
      ]
    },
    {
      "cell_type": "markdown",
      "source": [
        "**16. Print the values for life['animals']['cats']**"
      ],
      "metadata": {
        "id": "ozWE0Hih5j12"
      }
    },
    {
      "cell_type": "code",
      "source": [
        " life['animals']['cat']"
      ],
      "metadata": {
        "colab": {
          "base_uri": "https://localhost:8080/"
        },
        "id": "GKKKmgKm55yv",
        "outputId": "2de020f8-f7a2-4774-eadd-84af99ae6cef"
      },
      "execution_count": null,
      "outputs": [
        {
          "output_type": "execute_result",
          "data": {
            "text/plain": [
              "['Henri', 'Grumpy', 'Lucy']"
            ]
          },
          "metadata": {},
          "execution_count": 36
        }
      ]
    },
    {
      "cell_type": "markdown",
      "source": [],
      "metadata": {
        "id": "HvPRjCf76R0u"
      }
    }
  ]
}