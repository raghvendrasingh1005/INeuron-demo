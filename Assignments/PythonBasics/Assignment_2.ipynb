{
  "nbformat": 4,
  "nbformat_minor": 0,
  "metadata": {
    "colab": {
      "provenance": []
    },
    "kernelspec": {
      "name": "python3",
      "display_name": "Python 3"
    },
    "language_info": {
      "name": "python"
    }
  },
  "cells": [
    {
      "cell_type": "markdown",
      "source": [],
      "metadata": {
        "id": "-qQDEjubx-QE"
      }
    },
    {
      "cell_type": "markdown",
      "source": [
        "**1.What are the two values of the Boolean data type? How do you write them?**\n",
        "\n",
        "**Ans:** True & False"
      ],
      "metadata": {
        "id": "Xgct7jf5yDGp"
      }
    },
    {
      "cell_type": "markdown",
      "source": [
        "**2. What are the three different types of Boolean operators?**        \n",
        "**Ans:** AND, OR, and NOT"
      ],
      "metadata": {
        "id": "EDbxvMLXyUP2"
      }
    },
    {
      "cell_type": "markdown",
      "source": [
        "**3. Make a list of each Boolean operator's truth tables (i.e. every possible combination of Boolean values for the operator and what it evaluate ).**\n",
        "\n",
        "**Ans:**                                                \n",
        "True and True is True.\n",
        "\n",
        "True and False is False.\n",
        "\n",
        "False and True is False.\n",
        "\n",
        "False and False is False.\n",
        "\n",
        "True or True is True.\n",
        "\n",
        "True or False is True.\n",
        "\n",
        "False or True is True.\n",
        "\n",
        "False or False is False.\n",
        "\n",
        "not True is False.\n",
        "\n",
        "not False is True.\n",
        "\n",
        "\n",
        "\n",
        "\n",
        "**True is 1 and False is 0**                                          \n",
        "Table for AND                                                         \n",
        "1 1 1                                                             \n",
        "1 0 0                                                          \n",
        "0 1 0                                                            \n",
        "0 0 0                                                             \n",
        "\n",
        "Table for OR                                                           \n",
        "1 1 1                                                                  \n",
        "1 0 1                                                                 \n",
        "0 1 1                                                                     \n",
        "0 0 0                                                                   \n",
        "\n",
        "Table for NOT                                                           \n",
        "1 0                                                                    \n",
        "0 1                                                                \n"
      ],
      "metadata": {
        "id": "nz7awj-Iyt1F"
      }
    },
    {
      "cell_type": "code",
      "source": [
        "True and True"
      ],
      "metadata": {
        "colab": {
          "base_uri": "https://localhost:8080/"
        },
        "id": "0uy6ciOPy7AK",
        "outputId": "43d01c47-95e1-4420-af1e-26f1a2ba47f4"
      },
      "execution_count": null,
      "outputs": [
        {
          "output_type": "execute_result",
          "data": {
            "text/plain": [
              "True"
            ]
          },
          "metadata": {},
          "execution_count": 2
        }
      ]
    },
    {
      "cell_type": "code",
      "source": [
        "True and False"
      ],
      "metadata": {
        "colab": {
          "base_uri": "https://localhost:8080/"
        },
        "id": "ZEViQeEU3SMx",
        "outputId": "8d604229-879a-45ac-dffc-ad2dcdb27dc2"
      },
      "execution_count": null,
      "outputs": [
        {
          "output_type": "execute_result",
          "data": {
            "text/plain": [
              "False"
            ]
          },
          "metadata": {},
          "execution_count": 3
        }
      ]
    },
    {
      "cell_type": "code",
      "source": [
        "False and True"
      ],
      "metadata": {
        "colab": {
          "base_uri": "https://localhost:8080/"
        },
        "id": "vo6ka57v3ayT",
        "outputId": "eb7403d9-374e-45e9-ad59-4c6c349ff9bc"
      },
      "execution_count": null,
      "outputs": [
        {
          "output_type": "execute_result",
          "data": {
            "text/plain": [
              "False"
            ]
          },
          "metadata": {},
          "execution_count": 4
        }
      ]
    },
    {
      "cell_type": "code",
      "source": [
        "False and False"
      ],
      "metadata": {
        "colab": {
          "base_uri": "https://localhost:8080/"
        },
        "id": "LlpADUev3jsO",
        "outputId": "b7880b93-aa48-4ba6-82cd-a7bdead7f8fb"
      },
      "execution_count": null,
      "outputs": [
        {
          "output_type": "execute_result",
          "data": {
            "text/plain": [
              "False"
            ]
          },
          "metadata": {},
          "execution_count": 5
        }
      ]
    },
    {
      "cell_type": "code",
      "source": [
        "True or True"
      ],
      "metadata": {
        "colab": {
          "base_uri": "https://localhost:8080/"
        },
        "id": "nkePtr5D3rf2",
        "outputId": "71423a3a-be12-45d0-f4dc-176581f597fb"
      },
      "execution_count": null,
      "outputs": [
        {
          "output_type": "execute_result",
          "data": {
            "text/plain": [
              "True"
            ]
          },
          "metadata": {},
          "execution_count": 6
        }
      ]
    },
    {
      "cell_type": "code",
      "source": [
        "True or False"
      ],
      "metadata": {
        "colab": {
          "base_uri": "https://localhost:8080/"
        },
        "id": "Sp1POrDs34Fo",
        "outputId": "d9b7b3fa-f35a-4229-c94b-9d4150330b73"
      },
      "execution_count": null,
      "outputs": [
        {
          "output_type": "execute_result",
          "data": {
            "text/plain": [
              "True"
            ]
          },
          "metadata": {},
          "execution_count": 7
        }
      ]
    },
    {
      "cell_type": "code",
      "source": [
        "False or True"
      ],
      "metadata": {
        "colab": {
          "base_uri": "https://localhost:8080/"
        },
        "id": "czx1lypm4Cwu",
        "outputId": "61a367d2-025f-4cf0-bbe4-6d4ef9369236"
      },
      "execution_count": null,
      "outputs": [
        {
          "output_type": "execute_result",
          "data": {
            "text/plain": [
              "True"
            ]
          },
          "metadata": {},
          "execution_count": 8
        }
      ]
    },
    {
      "cell_type": "code",
      "source": [
        "False or False"
      ],
      "metadata": {
        "colab": {
          "base_uri": "https://localhost:8080/"
        },
        "id": "LTp2t1Ob4WJ3",
        "outputId": "21b367c6-2e7c-4e22-fe33-28952bf4935e"
      },
      "execution_count": null,
      "outputs": [
        {
          "output_type": "execute_result",
          "data": {
            "text/plain": [
              "False"
            ]
          },
          "metadata": {},
          "execution_count": 9
        }
      ]
    },
    {
      "cell_type": "code",
      "source": [
        "not True is False"
      ],
      "metadata": {
        "colab": {
          "base_uri": "https://localhost:8080/"
        },
        "id": "dkemUbz34f45",
        "outputId": "355fa966-b85c-4aed-af83-8800e88de42b"
      },
      "execution_count": null,
      "outputs": [
        {
          "output_type": "execute_result",
          "data": {
            "text/plain": [
              "True"
            ]
          },
          "metadata": {},
          "execution_count": 10
        }
      ]
    },
    {
      "cell_type": "code",
      "source": [
        "not False is True"
      ],
      "metadata": {
        "colab": {
          "base_uri": "https://localhost:8080/"
        },
        "id": "MdNdK6Da4pg_",
        "outputId": "b794fff0-e624-40b7-845b-baca257f07a9"
      },
      "execution_count": null,
      "outputs": [
        {
          "output_type": "execute_result",
          "data": {
            "text/plain": [
              "True"
            ]
          },
          "metadata": {},
          "execution_count": 11
        }
      ]
    },
    {
      "cell_type": "code",
      "source": [
        "1 and 1"
      ],
      "metadata": {
        "colab": {
          "base_uri": "https://localhost:8080/"
        },
        "id": "xQbRnqNx6DqX",
        "outputId": "a018e66e-3774-4e20-e69c-54a31edfe168"
      },
      "execution_count": null,
      "outputs": [
        {
          "output_type": "execute_result",
          "data": {
            "text/plain": [
              "1"
            ]
          },
          "metadata": {},
          "execution_count": 13
        }
      ]
    },
    {
      "cell_type": "code",
      "source": [
        "1 and 0"
      ],
      "metadata": {
        "colab": {
          "base_uri": "https://localhost:8080/"
        },
        "id": "qEc6z2IZNl3I",
        "outputId": "33e15fa3-508a-4a58-96a0-43f824189b7e"
      },
      "execution_count": null,
      "outputs": [
        {
          "output_type": "execute_result",
          "data": {
            "text/plain": [
              "0"
            ]
          },
          "metadata": {},
          "execution_count": 14
        }
      ]
    },
    {
      "cell_type": "code",
      "source": [
        "0 and 1"
      ],
      "metadata": {
        "colab": {
          "base_uri": "https://localhost:8080/"
        },
        "id": "RR39uCxrNrby",
        "outputId": "9450ae58-f324-42e2-8d92-d273ad8168dd"
      },
      "execution_count": null,
      "outputs": [
        {
          "output_type": "execute_result",
          "data": {
            "text/plain": [
              "0"
            ]
          },
          "metadata": {},
          "execution_count": 15
        }
      ]
    },
    {
      "cell_type": "code",
      "source": [
        "0 and 0"
      ],
      "metadata": {
        "colab": {
          "base_uri": "https://localhost:8080/"
        },
        "id": "fwK3MSZXNvvS",
        "outputId": "a31a00bb-af4d-4b4f-d889-3d7a5ee1b753"
      },
      "execution_count": null,
      "outputs": [
        {
          "output_type": "execute_result",
          "data": {
            "text/plain": [
              "0"
            ]
          },
          "metadata": {},
          "execution_count": 16
        }
      ]
    },
    {
      "cell_type": "code",
      "source": [
        "1 or 1"
      ],
      "metadata": {
        "colab": {
          "base_uri": "https://localhost:8080/"
        },
        "id": "5tTOZM5dN5Th",
        "outputId": "0283cece-9eff-469c-89e3-8c8218184419"
      },
      "execution_count": null,
      "outputs": [
        {
          "output_type": "execute_result",
          "data": {
            "text/plain": [
              "1"
            ]
          },
          "metadata": {},
          "execution_count": 17
        }
      ]
    },
    {
      "cell_type": "code",
      "source": [
        "1 or 0"
      ],
      "metadata": {
        "colab": {
          "base_uri": "https://localhost:8080/"
        },
        "id": "xymzRy5YN716",
        "outputId": "c39b403b-f103-4a84-d54f-6ec75f880d97"
      },
      "execution_count": null,
      "outputs": [
        {
          "output_type": "execute_result",
          "data": {
            "text/plain": [
              "1"
            ]
          },
          "metadata": {},
          "execution_count": 18
        }
      ]
    },
    {
      "cell_type": "code",
      "source": [
        "0 or 1"
      ],
      "metadata": {
        "colab": {
          "base_uri": "https://localhost:8080/"
        },
        "id": "WSG7IBPSN-H1",
        "outputId": "2e0f0d34-8191-4c8d-d10c-6ac553d2739f"
      },
      "execution_count": null,
      "outputs": [
        {
          "output_type": "execute_result",
          "data": {
            "text/plain": [
              "1"
            ]
          },
          "metadata": {},
          "execution_count": 19
        }
      ]
    },
    {
      "cell_type": "code",
      "source": [
        "0 or 0"
      ],
      "metadata": {
        "colab": {
          "base_uri": "https://localhost:8080/"
        },
        "id": "qa4gNkAvOB5z",
        "outputId": "3cbd981a-2166-44f0-e6eb-63ec812f5bd1"
      },
      "execution_count": null,
      "outputs": [
        {
          "output_type": "execute_result",
          "data": {
            "text/plain": [
              "0"
            ]
          },
          "metadata": {},
          "execution_count": 20
        }
      ]
    },
    {
      "cell_type": "code",
      "source": [
        "not 1 "
      ],
      "metadata": {
        "colab": {
          "base_uri": "https://localhost:8080/"
        },
        "id": "vk-iv5rjONxp",
        "outputId": "c3e898e4-83f7-42a7-9a7e-c152f9f9d2c9"
      },
      "execution_count": null,
      "outputs": [
        {
          "output_type": "execute_result",
          "data": {
            "text/plain": [
              "False"
            ]
          },
          "metadata": {},
          "execution_count": 23
        }
      ]
    },
    {
      "cell_type": "code",
      "source": [
        "not 0"
      ],
      "metadata": {
        "colab": {
          "base_uri": "https://localhost:8080/"
        },
        "id": "3xmxqGmGOwpv",
        "outputId": "b0b19e9c-15b0-4392-9d71-4e41037b4f82"
      },
      "execution_count": null,
      "outputs": [
        {
          "output_type": "execute_result",
          "data": {
            "text/plain": [
              "True"
            ]
          },
          "metadata": {},
          "execution_count": 24
        }
      ]
    },
    {
      "cell_type": "markdown",
      "source": [
        "**4. What are the values of the following expressions? ***                 \n",
        "(5 > 4) and (3 == 5)                                            \n",
        "not (5 > 4)                                                            \n",
        "(5 > 4) or (3 == 5)                                                   \n",
        "not ((5 > 4) or (3 == 5))                                              \n",
        "(True and True) and (True == False)                                     \n",
        "(not False) or (not True)  \n",
        "\n",
        "**Ans.**"
      ],
      "metadata": {
        "id": "UJxDAmzw47TT"
      }
    },
    {
      "cell_type": "code",
      "source": [
        "print((5 > 4) and (3 == 5))\n",
        "print(not (5 > 4))\n",
        "print((5 > 4) or (3 == 5))\n",
        "print(not ((5 > 4) or (3 == 5)))\n",
        "print((True and True) and (True == False))\n",
        "print((not False) or (not True))"
      ],
      "metadata": {
        "colab": {
          "base_uri": "https://localhost:8080/"
        },
        "id": "KraynnGGSJbf",
        "outputId": "628134f3-ae5c-4e93-de74-9200fa32d103"
      },
      "execution_count": null,
      "outputs": [
        {
          "output_type": "stream",
          "name": "stdout",
          "text": [
            "False\n",
            "False\n",
            "True\n",
            "False\n",
            "False\n",
            "True\n"
          ]
        }
      ]
    },
    {
      "cell_type": "markdown",
      "source": [
        "**5. What are the six comparison operators?**\n",
        "\n",
        "**Ans:**  ==, !=, <, >, <=, and >="
      ],
      "metadata": {
        "id": "N7hoanUQSh78"
      }
    },
    {
      "cell_type": "markdown",
      "source": [
        "**6. How do you tell the difference between the equal to and assignment operators?Describe a condition and when you would use one.**\n",
        "\n",
        "**Ans.**                                                                  \n",
        "== is the equal to operator that compares two values and evaluates to a Boolean, while = is the assignment operator that stores a value in a variable."
      ],
      "metadata": {
        "id": "i5U-fKuHS3K3"
      }
    },
    {
      "cell_type": "code",
      "source": [
        "# Use of Equal to Operator\n",
        "if(5==10):\n",
        "    print(\"True\")\n",
        "else:\n",
        "    print(\"False\")\n",
        "\n",
        "# Use of assignment operator\n",
        "name=\"Raghvendra\" \n",
        "print(\"Name: \", name)"
      ],
      "metadata": {
        "colab": {
          "base_uri": "https://localhost:8080/"
        },
        "id": "xLeeWClvUJeH",
        "outputId": "b5092835-819a-470d-db8a-0b934e5f9238"
      },
      "execution_count": null,
      "outputs": [
        {
          "output_type": "stream",
          "name": "stdout",
          "text": [
            "False\n",
            "Name:  Raghvendra\n"
          ]
        }
      ]
    },
    {
      "cell_type": "markdown",
      "source": [
        "**7. Identify the three blocks in this code:**                               \n",
        "spam = 0                                                           \n",
        "if spam == 10:                                                    \n",
        "print('eggs')                                           \n",
        "if spam > 5:                                          \n",
        "print('bacon')                                                           \n",
        "else:                                                          \n",
        "print('ham')                                               \n",
        "print('spam')                                         \n",
        "print('spam')                                             \n",
        "\n",
        "**Ans.**"
      ],
      "metadata": {
        "id": "ZFvumDgfUz5D"
      }
    },
    {
      "cell_type": "code",
      "source": [
        "spam = 0\n",
        "# First Block-Start\n",
        "if spam == 10:\n",
        "   print('eggs')\n",
        "# First Block-End\n",
        "\n",
        "# Second Block-Start\n",
        "if spam > 5:\n",
        "   print('bacon')\n",
        "# Second Block-End\n",
        "\n",
        "# Third Block-Start\n",
        "else:\n",
        "   print('ham')\n",
        "   print('spam')\n",
        "   print('spam')\n",
        "# Third Block-End"
      ],
      "metadata": {
        "colab": {
          "base_uri": "https://localhost:8080/"
        },
        "id": "DLNbu3DYU1kb",
        "outputId": "09f6af63-17c3-49ac-c8ae-0ea32df679e4"
      },
      "execution_count": null,
      "outputs": [
        {
          "output_type": "stream",
          "name": "stdout",
          "text": [
            "ham\n",
            "spam\n",
            "spam\n"
          ]
        }
      ]
    },
    {
      "cell_type": "markdown",
      "source": [
        "**8. Write code that prints Hello if 1 is stored in spam, prints Howdy if 2 is stored in spam, and prints Greetings! if anything else is stored in spam.**\n",
        "\n",
        "**Ans.**"
      ],
      "metadata": {
        "id": "l89aL4s3Wa9B"
      }
    },
    {
      "cell_type": "code",
      "source": [
        "spam = int(input(\"Enter Number: \"))\n",
        "\n",
        "if spam == 1:\n",
        "  print(\"Hello\")\n",
        "elif spam == 2:\n",
        "  print(\"Howdy\")\n",
        "else:\n",
        "  print(\"Greetings!\")\n"
      ],
      "metadata": {
        "colab": {
          "base_uri": "https://localhost:8080/"
        },
        "id": "YsGtqrc4UtjN",
        "outputId": "d932dfba-9c9d-4a93-ecce-5664d0f1d5d4"
      },
      "execution_count": null,
      "outputs": [
        {
          "output_type": "stream",
          "name": "stdout",
          "text": [
            "Enter Number: 1\n",
            "Hello\n"
          ]
        }
      ]
    },
    {
      "cell_type": "code",
      "source": [
        "spam = int(input(\"Enter Number: \"))\n",
        "\n",
        "if spam == 1:\n",
        "  print(\"Hello\")\n",
        "elif spam == 2:\n",
        "  print(\"Howdy\")\n",
        "else:\n",
        "  print(\"Greetings!\")"
      ],
      "metadata": {
        "colab": {
          "base_uri": "https://localhost:8080/"
        },
        "id": "VUes26FbXTTa",
        "outputId": "24f10ec8-3c4a-4121-db7e-8945a7745ed5"
      },
      "execution_count": null,
      "outputs": [
        {
          "output_type": "stream",
          "name": "stdout",
          "text": [
            "Enter Number: 2\n",
            "Howdy\n"
          ]
        }
      ]
    },
    {
      "cell_type": "code",
      "source": [
        "spam = int(input(\"Enter Number: \"))\n",
        "\n",
        "if spam == 1:\n",
        "  print(\"Hello\")\n",
        "elif spam == 2:\n",
        "  print(\"Howdy\")\n",
        "else:\n",
        "  print(\"Greetings!\")"
      ],
      "metadata": {
        "colab": {
          "base_uri": "https://localhost:8080/"
        },
        "id": "s8-0ooZtXXuI",
        "outputId": "c188530a-bc6d-4478-eef6-c753a59ebda9"
      },
      "execution_count": null,
      "outputs": [
        {
          "output_type": "stream",
          "name": "stdout",
          "text": [
            "Enter Number: 5\n",
            "Greetings!\n"
          ]
        }
      ]
    },
    {
      "cell_type": "markdown",
      "source": [
        "**9.If your programme is stuck in an endless loop, what keys you’ll press?**\n",
        "\n",
        "**Ans:** We can press key 'CTRL + C'"
      ],
      "metadata": {
        "id": "e_w9Nv9pXhE-"
      }
    },
    {
      "cell_type": "markdown",
      "source": [
        "**10. How can you tell the difference between break and continue?**\n",
        "\n",
        "**Ans:**\n",
        "\n",
        "**break statement:** \n",
        "1.   It is used when we want to skip or terminate a certain statement. \n",
        "2.   When some external condition is triggered, and it requires the termination of the loop.\n",
        "\n",
        "**Continue statement:** \n",
        "1. When we don’t want certain conditions to run. \n",
        "2. When we don’t want to terminate the loop and just want to skip iteration. \n",
        "3. When we want to continue the iteration. "
      ],
      "metadata": {
        "id": "cL24yT9yYCx6"
      }
    },
    {
      "cell_type": "code",
      "source": [
        "#Demonstration of Python break statement \n",
        "for i in range(10): \n",
        "       # if i is equal to 6 \n",
        "       # break statement terminate the current working loop   \n",
        "       if i == 6: \n",
        "             break \n",
        "       else: \n",
        "              print (i)"
      ],
      "metadata": {
        "colab": {
          "base_uri": "https://localhost:8080/"
        },
        "id": "otsK52GTXgOw",
        "outputId": "6a42c48a-4cfe-486d-8479-f21b2ee97f88"
      },
      "execution_count": null,
      "outputs": [
        {
          "output_type": "stream",
          "name": "stdout",
          "text": [
            "0\n",
            "1\n",
            "2\n",
            "3\n",
            "4\n",
            "5\n"
          ]
        }
      ]
    },
    {
      "cell_type": "code",
      "source": [
        "#Demonstration of Python continue statement \n",
        "for i in range(10): \n",
        "       # if i is equal to 2 \n",
        "       # continue statement will skip   \n",
        "       #and start executing next iteration \n",
        "       if i == 2: \n",
        "             continue \n",
        "       else: \n",
        "              print (i) "
      ],
      "metadata": {
        "colab": {
          "base_uri": "https://localhost:8080/"
        },
        "id": "GfEfAcJqqEnw",
        "outputId": "414ab600-0673-4fa5-f653-2b3783597b51"
      },
      "execution_count": null,
      "outputs": [
        {
          "output_type": "stream",
          "name": "stdout",
          "text": [
            "0\n",
            "1\n",
            "3\n",
            "4\n",
            "5\n",
            "6\n",
            "7\n",
            "8\n",
            "9\n"
          ]
        }
      ]
    },
    {
      "cell_type": "markdown",
      "source": [
        "**11. In a for loop, what is the difference between range(10), range(0, 10), and range(0, 10, 1)?**\n",
        "\n",
        "**Ans:** \n",
        "1. range(stop) takes one argument.\n",
        "2. range(start, stop) takes two arguments.\n",
        "3. range(start, stop, step) takes three arguments."
      ],
      "metadata": {
        "id": "_hqS1pxxqh-r"
      }
    },
    {
      "cell_type": "code",
      "source": [
        "# Demonstartion of range(10)\n",
        "for i in range(10):\n",
        "  print(i, end=\" \")\n",
        "print(\"\\n\")\n",
        "\n",
        "# Demonstartion of range(0, 10)\n",
        "for i in range(0, 10):\n",
        "  print(i, end=\" \")\n",
        "print(\"\\n\")\n",
        "\n",
        "# Demonstartion of range(0,10,1)\n",
        "for i in range(0,10,1):\n",
        "  print(i, end=\" \")"
      ],
      "metadata": {
        "colab": {
          "base_uri": "https://localhost:8080/"
        },
        "id": "S9NFfSNpsaMM",
        "outputId": "219d6865-1b0b-4641-c045-d65499cc234c"
      },
      "execution_count": null,
      "outputs": [
        {
          "output_type": "stream",
          "name": "stdout",
          "text": [
            "0 1 2 3 4 5 6 7 8 9 \n",
            "\n",
            "0 1 2 3 4 5 6 7 8 9 \n",
            "\n",
            "0 1 2 3 4 5 6 7 8 9 "
          ]
        }
      ]
    },
    {
      "cell_type": "markdown",
      "source": [
        "With the Above output range(10), range(0, 10) & range(0, 10, 1) are same.\n",
        "\n",
        "The range(10) call ranges from 0 up to (but not including) 10, range(0, 10) tells the loop to start at 0, and range(0, 10, 1) tells the loop to increase the variable by 1 on each iteration.\n"
      ],
      "metadata": {
        "id": "wjeyxmB5t917"
      }
    },
    {
      "cell_type": "markdown",
      "source": [
        "**12. Write a short program that prints the numbers 1 to 10 using a for loop. Then write an equivalent program that prints the numbers 1 to 10 using a while loop.**\n",
        "\n",
        "**Ans:**\n"
      ],
      "metadata": {
        "id": "P7Y7UTB8xMAq"
      }
    },
    {
      "cell_type": "code",
      "source": [
        "#Program using for loop\n",
        "for i in range(1, 11): \n",
        "  print(i, end=\" \")\n",
        "print(\"\\n\")\n",
        "\n",
        "#Program using while loop\n",
        "i = 1\n",
        "while i <= 10:\n",
        "  print(i, end=\" \")\n",
        "  i +=1\n"
      ],
      "metadata": {
        "colab": {
          "base_uri": "https://localhost:8080/"
        },
        "id": "xUqCEJfjxV7c",
        "outputId": "0fda9a7e-311d-4612-fa3e-d3f4fed889e2"
      },
      "execution_count": null,
      "outputs": [
        {
          "output_type": "stream",
          "name": "stdout",
          "text": [
            "1 2 3 4 5 6 7 8 9 10 \n",
            "\n",
            "1 2 3 4 5 6 7 8 9 10 "
          ]
        }
      ]
    },
    {
      "cell_type": "markdown",
      "source": [
        "**13. If you had a function named bacon() inside a module named spam, how would you call it after importing spam?**\n",
        "\n",
        "**Ans:** Function can be called with spam.bacon()."
      ],
      "metadata": {
        "id": "rThYbjZ70H2C"
      }
    }
  ]
}