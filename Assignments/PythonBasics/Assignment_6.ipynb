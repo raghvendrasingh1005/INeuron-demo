{
  "nbformat": 4,
  "nbformat_minor": 0,
  "metadata": {
    "colab": {
      "provenance": []
    },
    "kernelspec": {
      "name": "python3",
      "display_name": "Python 3"
    },
    "language_info": {
      "name": "python"
    }
  },
  "cells": [
    {
      "cell_type": "markdown",
      "source": [
        "**1. What are escape characters, and how do you use them?**\n",
        "\n",
        "**Ans:**\n",
        "\n",
        "Escape characters represent characters in string values."
      ],
      "metadata": {
        "id": "De5NKXvjDxQG"
      }
    },
    {
      "cell_type": "code",
      "execution_count": null,
      "metadata": {
        "id": "03uOnl-lDTHA"
      },
      "outputs": [],
      "source": []
    },
    {
      "cell_type": "markdown",
      "source": [
        "**2. What do the escape characters n and t stand for?**\n",
        "\n",
        "**Ans:**\n",
        "\n",
        "\\n is a newline; \\t is a tab"
      ],
      "metadata": {
        "id": "wZJrUk5PEJz5"
      }
    },
    {
      "cell_type": "code",
      "source": [
        "fname = \"Raghvendra\"\n",
        "lname = \"Singh\"\n",
        "\n",
        "#Use of \\n\n",
        "print(f\"First Name: {fname}\\nLast Name: {lname}\")\n",
        "\n",
        "#Use of \\t\n",
        "print(f\"First Name: {fname}\\tLast Name: {lname}\")"
      ],
      "metadata": {
        "colab": {
          "base_uri": "https://localhost:8080/"
        },
        "id": "2rJ5_Y8PESKC",
        "outputId": "94c51542-88c3-4f41-b693-5196658e14d8"
      },
      "execution_count": 17,
      "outputs": [
        {
          "output_type": "stream",
          "name": "stdout",
          "text": [
            "First Name: Raghvendra\n",
            "Last Name: Singh\n",
            "First Name: Raghvendra\tLast Name: Singh\n"
          ]
        }
      ]
    },
    {
      "cell_type": "markdown",
      "source": [
        "**3. What is the way to include backslash characters in a string?**\n",
        "\n",
        "**Ans:**\n",
        "The \\\\\\ escape character will represent a backslash character."
      ],
      "metadata": {
        "id": "_wZUiRdIESv4"
      }
    },
    {
      "cell_type": "code",
      "source": [
        "txt = \"This will insert one \\\\ (backslash).\"\n",
        "print(txt) "
      ],
      "metadata": {
        "colab": {
          "base_uri": "https://localhost:8080/"
        },
        "id": "Vi-kYrjQEj9b",
        "outputId": "671493ca-c4eb-40f9-d70e-d3a260b6352f"
      },
      "execution_count": 15,
      "outputs": [
        {
          "output_type": "stream",
          "name": "stdout",
          "text": [
            "This will insert one \\ (backslash).\n"
          ]
        }
      ]
    },
    {
      "cell_type": "markdown",
      "source": [
        "**4. The string \"Howl's Moving Castle\" is a correct value. Why isn't the single quote character in the word Howl's not escaped a problem?**\n",
        "\n",
        "**Ans:**\n",
        "The single quote in Howl's is fine because you've used double quotes to mark the beginning and end of the string."
      ],
      "metadata": {
        "id": "j-go9OCLEiPm"
      }
    },
    {
      "cell_type": "code",
      "source": [
        "print(\"Howl's Moving Castle\")"
      ],
      "metadata": {
        "colab": {
          "base_uri": "https://localhost:8080/"
        },
        "id": "SYD0-Z-HEvwu",
        "outputId": "f006e61f-0be8-4d4e-d12e-8154a2c32b87"
      },
      "execution_count": 14,
      "outputs": [
        {
          "output_type": "stream",
          "name": "stdout",
          "text": [
            "Howl's Moving Castle\n"
          ]
        }
      ]
    },
    {
      "cell_type": "markdown",
      "source": [
        "**5. How do you write a string of newlines if you don't want to use the n character?**\n",
        "\n",
        "**Ans:**\n",
        "\n",
        "Multiline strings allow you to use newlines in strings without the \\n escape character."
      ],
      "metadata": {
        "id": "C55j_d7lEwZT"
      }
    },
    {
      "cell_type": "code",
      "source": [
        "print(\"\"\"\n",
        "      Hello Raghvendra!\n",
        "      how are you doing?\n",
        "      \"\"\")"
      ],
      "metadata": {
        "colab": {
          "base_uri": "https://localhost:8080/"
        },
        "id": "N7jG8zOqE5i5",
        "outputId": "b79f7c27-6106-4211-a9bc-511eb090d4ac"
      },
      "execution_count": 23,
      "outputs": [
        {
          "output_type": "stream",
          "name": "stdout",
          "text": [
            "\n",
            "      Hello Raghvendra!\n",
            "      how are you doing?\n",
            "      \n"
          ]
        }
      ]
    },
    {
      "cell_type": "markdown",
      "source": [
        "**6. What are the values of the given expressions?**\n",
        "\n",
        "'Hello, world!'[1]\n",
        "\n",
        "'Hello, world!'[0:5]\n",
        "\n",
        "'Hello, world!'[:5]\n",
        "\n",
        "'Hello, world!'[3:]\n",
        "\n",
        "**Ans:**"
      ],
      "metadata": {
        "id": "pWKd_EIWE9sS"
      }
    },
    {
      "cell_type": "code",
      "source": [
        "print('Hello, world!'[1])\n",
        "\n",
        "print('Hello, world!'[0:5])\n",
        "\n",
        "print('Hello, world!'[:5])\n",
        "\n",
        "print('Hello, world!'[3:])"
      ],
      "metadata": {
        "colab": {
          "base_uri": "https://localhost:8080/"
        },
        "id": "t6_RARQXFW21",
        "outputId": "1f2ef9d5-b904-416d-a748-f957cde5250b"
      },
      "execution_count": 3,
      "outputs": [
        {
          "output_type": "stream",
          "name": "stdout",
          "text": [
            "e\n",
            "Hello\n",
            "Hello\n",
            "lo, world!\n"
          ]
        }
      ]
    },
    {
      "cell_type": "markdown",
      "source": [
        "**7. What are the values of the following expressions?**\n",
        "\n",
        "'Hello'.upper()\n",
        "\n",
        "'Hello'.upper().isupper()\n",
        "\n",
        "'Hello'.upper().lower()\n",
        "\n",
        "**Ans:**\n"
      ],
      "metadata": {
        "id": "YwZBOazVGYGV"
      }
    },
    {
      "cell_type": "code",
      "source": [
        "print('Hello'.upper())\n",
        "\n",
        "print('Hello'.upper().isupper())\n",
        "\n",
        "print('Hello'.upper().lower())"
      ],
      "metadata": {
        "colab": {
          "base_uri": "https://localhost:8080/"
        },
        "id": "LcaS3IVUGu3B",
        "outputId": "23561de2-cb3a-475b-b1a0-1d1f362c9914"
      },
      "execution_count": 4,
      "outputs": [
        {
          "output_type": "stream",
          "name": "stdout",
          "text": [
            "HELLO\n",
            "True\n",
            "hello\n"
          ]
        }
      ]
    },
    {
      "cell_type": "markdown",
      "source": [
        "**8. What are the values of the following expressions?**\n",
        "\n",
        "'Remember, remember, the fifth of July.'.split()                            \n",
        "'-'.join('There can only one.'.split())\n",
        "\n",
        "**Ans:**"
      ],
      "metadata": {
        "id": "Amc4MDMMHET9"
      }
    },
    {
      "cell_type": "code",
      "source": [
        "print('Remember, remember, the fifth of July.'.split())\n",
        "print('-'.join('There can only one.'.split()))"
      ],
      "metadata": {
        "colab": {
          "base_uri": "https://localhost:8080/"
        },
        "id": "5hhYpXiwHRQq",
        "outputId": "2a604362-b68f-43a6-b13f-1068fd682818"
      },
      "execution_count": 13,
      "outputs": [
        {
          "output_type": "stream",
          "name": "stdout",
          "text": [
            "['Remember,', 'remember,', 'the', 'fifth', 'of', 'July.']\n",
            "There-can-only-one.\n"
          ]
        }
      ]
    },
    {
      "cell_type": "markdown",
      "source": [
        "**9. What are the methods for right-justifying, left-justifying, and centering a string?**\n",
        "\n",
        "**Ans:**"
      ],
      "metadata": {
        "id": "QvtxB5q4HTyW"
      }
    },
    {
      "cell_type": "code",
      "source": [
        "# right-justifying a string\n",
        "\n",
        "rstr = \"Hi! my name is Raghvendra\"\n",
        "  \n",
        "# Printing the original string\n",
        "print (\"The original string is : \\n\", rstr, \"\\n\")\n",
        "  \n",
        "# Printing the right aligned string\n",
        "# with \"-\" padding \n",
        "print (\"The right aligned string is : \")\n",
        "print (rstr.rjust(50, '-'))"
      ],
      "metadata": {
        "colab": {
          "base_uri": "https://localhost:8080/"
        },
        "id": "YZAbBDF5HaQ1",
        "outputId": "a28942ed-243c-4ea8-99d9-0482e6225b6f"
      },
      "execution_count": 9,
      "outputs": [
        {
          "output_type": "stream",
          "name": "stdout",
          "text": [
            "The original string is : \n",
            " Hi! my name is Raghvendra \n",
            "\n",
            "The right aligned string is : \n",
            "-------------------------Hi! my name is Raghvendra\n"
          ]
        }
      ]
    },
    {
      "cell_type": "code",
      "source": [
        "# left-justifying a string\n",
        "\n",
        "lstr = \"Hi! my name is Raghvendra\"\n",
        "  \n",
        "# Printing the original string\n",
        "print (\"The original string is : \\n\", lstr, \"\\n\")\n",
        "  \n",
        "# Printing the left aligned string\n",
        "# with \"-\" padding \n",
        "print (\"The left aligned string is : \")\n",
        "print (lstr.ljust(50, '-'))"
      ],
      "metadata": {
        "colab": {
          "base_uri": "https://localhost:8080/"
        },
        "id": "944Txrb-PuSa",
        "outputId": "e8287bfc-c38a-4d40-df70-7e93fafeab71"
      },
      "execution_count": 10,
      "outputs": [
        {
          "output_type": "stream",
          "name": "stdout",
          "text": [
            "The original string is : \n",
            " Hi! my name is Raghvendra \n",
            "\n",
            "The left aligned string is : \n",
            "Hi! my name is Raghvendra-------------------------\n"
          ]
        }
      ]
    },
    {
      "cell_type": "code",
      "source": [
        "# center-justifying a string\n",
        "\n",
        "cstr = \"Hi! my name is Raghvendra\"\n",
        "  \n",
        "# Printing the original string\n",
        "print (\"The original string is : \\n\", cstr, \"\\n\")\n",
        "  \n",
        "# Printing the center aligned string\n",
        "# with \"-\" padding \n",
        "print (\"The center aligned string is : \")\n",
        "print (cstr.center(50, '-'))"
      ],
      "metadata": {
        "colab": {
          "base_uri": "https://localhost:8080/"
        },
        "id": "Ol2huCP5QC9C",
        "outputId": "17389a67-40f0-448d-e4c3-83e480b4e28c"
      },
      "execution_count": 11,
      "outputs": [
        {
          "output_type": "stream",
          "name": "stdout",
          "text": [
            "The original string is : \n",
            " Hi! my name is Raghvendra \n",
            "\n",
            "The center aligned string is : \n",
            "------------Hi! my name is Raghvendra-------------\n"
          ]
        }
      ]
    },
    {
      "cell_type": "markdown",
      "source": [
        "**10. What is the best way to remove whitespace characters from the start or end?**\n",
        "\n",
        "**Ans:**"
      ],
      "metadata": {
        "id": "LqZTUwDNHblG"
      }
    },
    {
      "cell_type": "code",
      "source": [
        "#removing the whitespace characters from the start\n",
        "greeting = \"     Hello!  \"\n",
        "\n",
        "stripped_greeting = greeting.lstrip()\n",
        "\n",
        "print(stripped_greeting,\"How are you?\" )"
      ],
      "metadata": {
        "colab": {
          "base_uri": "https://localhost:8080/"
        },
        "id": "8M3SenmyHgO4",
        "outputId": "24d79e11-e3a8-4493-d367-79381825fab6"
      },
      "execution_count": 5,
      "outputs": [
        {
          "output_type": "stream",
          "name": "stdout",
          "text": [
            "Hello!   How are you?\n"
          ]
        }
      ]
    },
    {
      "cell_type": "code",
      "source": [
        "#removing the whitespace characters from the end\n",
        "greeting = \"     Hello!  \"\n",
        "\n",
        "stripped_greeting = greeting.rstrip()\n",
        "\n",
        "print(stripped_greeting,\"How are you?\" )"
      ],
      "metadata": {
        "colab": {
          "base_uri": "https://localhost:8080/"
        },
        "id": "W4S7WGx4JSkj",
        "outputId": "6f970a4f-3431-4631-e48e-88ae80288731"
      },
      "execution_count": 6,
      "outputs": [
        {
          "output_type": "stream",
          "name": "stdout",
          "text": [
            "     Hello! How are you?\n"
          ]
        }
      ]
    }
  ]
}