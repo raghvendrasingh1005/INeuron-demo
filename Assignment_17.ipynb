{
  "nbformat": 4,
  "nbformat_minor": 0,
  "metadata": {
    "colab": {
      "provenance": [],
      "authorship_tag": "ABX9TyOo0dUK6AmSipSWblYIZgY4",
      "include_colab_link": true
    },
    "kernelspec": {
      "name": "python3",
      "display_name": "Python 3"
    },
    "language_info": {
      "name": "python"
    }
  },
  "cells": [
    {
      "cell_type": "markdown",
      "metadata": {
        "id": "view-in-github",
        "colab_type": "text"
      },
      "source": [
        "<a href=\"https://colab.research.google.com/github/raghvendrasingh1005/INeuron-demo/blob/main/Assignment_17.ipynb\" target=\"_parent\"><img src=\"https://colab.research.google.com/assets/colab-badge.svg\" alt=\"Open In Colab\"/></a>"
      ]
    },
    {
      "cell_type": "markdown",
      "source": [
        "**1. Assign the value 7 to the variable guess_me. Then, write the conditional tests (if, else, and elif) to print the string 'too low' if guess_me is less than 7, 'too high' if greater than 7, and 'just right' if equal to 7.**"
      ],
      "metadata": {
        "id": "y_brsULoKQSy"
      }
    },
    {
      "cell_type": "code",
      "source": [
        "guess_me = 7\n",
        "\n",
        "if guess_me < 7:\n",
        "  print('too low')\n",
        "elif guess_me < 7:\n",
        "  print('too high')\n",
        "else:\n",
        "  print('just right')\n"
      ],
      "metadata": {
        "colab": {
          "base_uri": "https://localhost:8080/"
        },
        "id": "dMue8K5iKUWr",
        "outputId": "72c5e534-bb0b-4848-d3a2-3c4a2f3f81a0"
      },
      "execution_count": 3,
      "outputs": [
        {
          "output_type": "stream",
          "name": "stdout",
          "text": [
            "just right\n"
          ]
        }
      ]
    },
    {
      "cell_type": "markdown",
      "source": [
        "**2. Assign the value 7 to the variable guess_me and the value 1 to the variable start. Write a while loop that compares start with guess_me. Print too low if start is less than guess me. If start equals guess_me, print 'found it!' and exit the loop. If start is greater than guess_me, print 'oops' and exit the loop. Increment start at the end of the loop.**"
      ],
      "metadata": {
        "id": "2gY5_d1eLMIB"
      }
    },
    {
      "cell_type": "code",
      "source": [
        "guess_me = 7\n",
        "start = 1\n",
        "\n",
        "while True:  \n",
        "  if start < guess_me:\n",
        "    print('too low')\n",
        "  if start == guess_me:\n",
        "    print('found it')\n",
        "    break;\n",
        "  if guess_me < start:\n",
        "    print('oops')\n",
        "    break;\n",
        "  start+= 1;"
      ],
      "metadata": {
        "colab": {
          "base_uri": "https://localhost:8080/"
        },
        "id": "WEVmq96-LSa0",
        "outputId": "7e2ddfb4-64a2-4caf-a3ab-e40a1c3e0fba"
      },
      "execution_count": 10,
      "outputs": [
        {
          "output_type": "stream",
          "name": "stdout",
          "text": [
            "too low\n",
            "too low\n",
            "too low\n",
            "too low\n",
            "too low\n",
            "too low\n",
            "found it\n"
          ]
        }
      ]
    },
    {
      "cell_type": "markdown",
      "source": [
        "**3. Print the following values of the list [3, 2, 1, 0] using a for loop.**"
      ],
      "metadata": {
        "id": "MxDRlW8RP-UM"
      }
    },
    {
      "cell_type": "code",
      "source": [
        "numbers = [3, 2, 1, 0]\n",
        "for num in numbers:\n",
        "    print(num)"
      ],
      "metadata": {
        "colab": {
          "base_uri": "https://localhost:8080/"
        },
        "id": "bAs8yGa4QRl1",
        "outputId": "9c360c93-2c43-43bb-f0cc-69768f4c3ea5"
      },
      "execution_count": 11,
      "outputs": [
        {
          "output_type": "stream",
          "name": "stdout",
          "text": [
            "3\n",
            "2\n",
            "1\n",
            "0\n"
          ]
        }
      ]
    },
    {
      "cell_type": "markdown",
      "source": [
        "**4. Use a list comprehension to make a list of the even numbers in range(10)**"
      ],
      "metadata": {
        "id": "pA1PEW7TQfNu"
      }
    },
    {
      "cell_type": "code",
      "source": [
        "even_number = [num for num in range(10) if num % 2 == 0]\n",
        "\n",
        "print(even_number)"
      ],
      "metadata": {
        "colab": {
          "base_uri": "https://localhost:8080/"
        },
        "id": "-QgytfWxQkkQ",
        "outputId": "41177303-a5f8-4392-c0c8-adf99dd2f17c"
      },
      "execution_count": 12,
      "outputs": [
        {
          "output_type": "stream",
          "name": "stdout",
          "text": [
            "[0, 2, 4, 6, 8]\n"
          ]
        }
      ]
    },
    {
      "cell_type": "markdown",
      "source": [
        "**5. Use a dictionary comprehension to create the dictionary squares. Use range(10) to return the keys, and use the square of each key as its value.**"
      ],
      "metadata": {
        "id": "cs4YrHMBSP4u"
      }
    },
    {
      "cell_type": "code",
      "source": [
        "limit = 10\n",
        "squares = {num: num * num for num in range(limit)}\n",
        "print(squares)"
      ],
      "metadata": {
        "colab": {
          "base_uri": "https://localhost:8080/"
        },
        "id": "2ac8Su8PSUKD",
        "outputId": "781045f3-c9eb-4d5b-bec0-bc83b6aa1b49"
      },
      "execution_count": 13,
      "outputs": [
        {
          "output_type": "stream",
          "name": "stdout",
          "text": [
            "{0: 0, 1: 1, 2: 4, 3: 9, 4: 16, 5: 25, 6: 36, 7: 49, 8: 64, 9: 81}\n"
          ]
        }
      ]
    },
    {
      "cell_type": "markdown",
      "source": [
        "**6. Construct the set odd from the odd numbers in the range using a set comprehension (10).**"
      ],
      "metadata": {
        "id": "9LpDRw0eS-WO"
      }
    },
    {
      "cell_type": "code",
      "source": [
        "limit = 10\n",
        "odd = {num for num in range(limit) if num % 2 == 1}\n",
        "print(odd)"
      ],
      "metadata": {
        "colab": {
          "base_uri": "https://localhost:8080/"
        },
        "id": "We_HT16bTDR4",
        "outputId": "14f3a2fd-ead6-45cc-fa2f-0d1953de70ba"
      },
      "execution_count": 14,
      "outputs": [
        {
          "output_type": "stream",
          "name": "stdout",
          "text": [
            "{1, 3, 5, 7, 9}\n"
          ]
        }
      ]
    },
    {
      "cell_type": "markdown",
      "source": [
        "**7. Use a generator comprehension to return the string 'Got ' and a number for the numbers in range(10). Iterate through this by using a for loop.**"
      ],
      "metadata": {
        "id": "SHITMh82TMx5"
      }
    },
    {
      "cell_type": "code",
      "source": [
        "limit = 10\n",
        "string_generator = ('Got ' + str(num) for num in range(limit))\n",
        "for item in string_generator:\n",
        "    print(item)"
      ],
      "metadata": {
        "colab": {
          "base_uri": "https://localhost:8080/"
        },
        "id": "hSyTE-A1TRgH",
        "outputId": "b1f6702e-4cda-4e11-de37-da681370c3ac"
      },
      "execution_count": 15,
      "outputs": [
        {
          "output_type": "stream",
          "name": "stdout",
          "text": [
            "Got 0\n",
            "Got 1\n",
            "Got 2\n",
            "Got 3\n",
            "Got 4\n",
            "Got 5\n",
            "Got 6\n",
            "Got 7\n",
            "Got 8\n",
            "Got 9\n"
          ]
        }
      ]
    },
    {
      "cell_type": "markdown",
      "source": [
        "**8. Define a function called good that returns the list ['Harry', 'Ron', 'Hermione'].**"
      ],
      "metadata": {
        "id": "V805-xagTmi_"
      }
    },
    {
      "cell_type": "code",
      "source": [
        "def good():\n",
        "  return ['Harry', 'Ron', 'Hermione']\n",
        "\n",
        "print(good())"
      ],
      "metadata": {
        "colab": {
          "base_uri": "https://localhost:8080/"
        },
        "id": "SBsOqL4XTrcT",
        "outputId": "3fa7957d-a904-433e-800f-db9e36162c81"
      },
      "execution_count": 19,
      "outputs": [
        {
          "output_type": "stream",
          "name": "stdout",
          "text": [
            "['Harry', 'Ron', 'Hermione']\n"
          ]
        }
      ]
    },
    {
      "cell_type": "markdown",
      "source": [
        "**9. Define a generator function called get_odds that returns the odd numbers from range(10). Use a for loop to find and print the third value returned.**"
      ],
      "metadata": {
        "id": "UaoKgymuUbGQ"
      }
    },
    {
      "cell_type": "code",
      "source": [
        "limit = 10\n",
        "get_odds = (num for num in range(limit) if not num % 2 == 0)\n",
        "count = 0\n",
        "for num in get_odds:\n",
        "    if count == 2:\n",
        "        print(num)\n",
        "        break\n",
        "    count += 1"
      ],
      "metadata": {
        "colab": {
          "base_uri": "https://localhost:8080/"
        },
        "id": "asQaTjrHUflD",
        "outputId": "40483b7a-58c8-4e26-fb67-40ceb1d7dd14"
      },
      "execution_count": 20,
      "outputs": [
        {
          "output_type": "stream",
          "name": "stdout",
          "text": [
            "5\n"
          ]
        }
      ]
    },
    {
      "cell_type": "markdown",
      "source": [
        "**10. Define an exception called OopsException. Raise this exception to see what happens. Then write the code to catch this exception and print 'Caught an oops'.**"
      ],
      "metadata": {
        "id": "E6XriEkaVF0S"
      }
    },
    {
      "cell_type": "code",
      "source": [
        "class OopsException(Exception):\n",
        "    pass\n",
        "\n",
        "\n",
        "def with_exception(a):\n",
        "    if a < 0:\n",
        "        raise OopsException(a)\n",
        "\n",
        "\n",
        "try:\n",
        "    with_exception(-1)\n",
        "except OopsException as err:\n",
        "    print('Caught an oops')"
      ],
      "metadata": {
        "colab": {
          "base_uri": "https://localhost:8080/"
        },
        "id": "K0nQWmXSVLfc",
        "outputId": "4464fb21-feca-40c3-dec6-3e94c0942049"
      },
      "execution_count": 21,
      "outputs": [
        {
          "output_type": "stream",
          "name": "stdout",
          "text": [
            "Caught an oops\n"
          ]
        }
      ]
    },
    {
      "cell_type": "markdown",
      "source": [
        "**11. Use zip() to make a dictionary called movies that pairs these lists: titles = ['Creature of Habit', 'Crewel Fate'] and plots = ['A nun turns into a monster', 'A haunted yarn shop'].**"
      ],
      "metadata": {
        "id": "t5TZhMTaVsqz"
      }
    },
    {
      "cell_type": "code",
      "source": [
        "titles = ['Creature of Habit', 'Crewel Fate'] \n",
        "plots = ['A nun turns into a monster', 'A haunted yarn shop']\n",
        "\n",
        "movies = {}\n",
        "\n",
        "for titles, plots in zip(titles, plots):\n",
        "  movies[titles] = plots\n",
        "\n",
        "print(movies)"
      ],
      "metadata": {
        "colab": {
          "base_uri": "https://localhost:8080/"
        },
        "id": "zavLO1n7VyWh",
        "outputId": "8437a674-7b16-4082-d55a-0416c7663799"
      },
      "execution_count": 22,
      "outputs": [
        {
          "output_type": "stream",
          "name": "stdout",
          "text": [
            "{'Creature of Habit': 'A nun turns into a monster', 'Crewel Fate': 'A haunted yarn shop'}\n"
          ]
        }
      ]
    }
  ]
}