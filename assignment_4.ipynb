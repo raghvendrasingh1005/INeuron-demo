{
  "nbformat": 4,
  "nbformat_minor": 0,
  "metadata": {
    "colab": {
      "provenance": [],
      "authorship_tag": "ABX9TyMJ9O9fxuORxk8ltb9/ahxj",
      "include_colab_link": true
    },
    "kernelspec": {
      "name": "python3",
      "display_name": "Python 3"
    },
    "language_info": {
      "name": "python"
    }
  },
  "cells": [
    {
      "cell_type": "markdown",
      "metadata": {
        "id": "view-in-github",
        "colab_type": "text"
      },
      "source": [
        "<a href=\"https://colab.research.google.com/github/raghvendrasingh1005/INeuron-demo/blob/main/assignment_4.ipynb\" target=\"_parent\"><img src=\"https://colab.research.google.com/assets/colab-badge.svg\" alt=\"Open In Colab\"/></a>"
      ]
    },
    {
      "cell_type": "markdown",
      "source": [
        "**1. What exactly is []?**\n",
        "\n",
        "**Ans.** The empty list value, which is a list value that contains no items.\n",
        "\n",
        "eg:\n",
        "[ ] is a empty list, like a =[ ]"
      ],
      "metadata": {
        "id": "kWzLTlM-UdtH"
      }
    },
    {
      "cell_type": "markdown",
      "source": [
        "**2. In a list of values stored in a variable called spam, how would you assign the value 'hello' as the third value? (Assume [2, 4, 6, 8, 10] are in spam.)**\n",
        "\n",
        "**Ans.**\n"
      ],
      "metadata": {
        "id": "AbLyWY1AUont"
      }
    },
    {
      "cell_type": "code",
      "source": [
        "# Before Assign the value\n",
        "spam = [2, 4, 6, 8, 10]\n",
        "print(spam)\n",
        "\n",
        "# assign the value 'hello' as the third value\n",
        "spam[2] = \"hello\"\n",
        "print(spam)"
      ],
      "metadata": {
        "colab": {
          "base_uri": "https://localhost:8080/"
        },
        "id": "jbU664TnU8ef",
        "outputId": "d636ad9d-3af1-4519-82f3-555995ba601a"
      },
      "execution_count": null,
      "outputs": [
        {
          "output_type": "stream",
          "name": "stdout",
          "text": [
            "[2, 4, 6, 8, 10]\n",
            "[2, 4, 'hello', 8, 10]\n"
          ]
        }
      ]
    },
    {
      "cell_type": "markdown",
      "source": [
        "**Let's pretend the spam includes the list ['a', 'b', 'c', 'd'] for the next three queries.**\n",
        "\n",
        "3. What is the value of spam[int(int('3' * 2) / 11)]?\n"
      ],
      "metadata": {
        "id": "v0lo3I5VWO6n"
      }
    },
    {
      "cell_type": "code",
      "source": [
        "spam = ['a', 'b', 'c', 'd']\n",
        "spam[int(int('3' * 2) / 11)] # spam[int(33/11)] = spam[3]"
      ],
      "metadata": {
        "colab": {
          "base_uri": "https://localhost:8080/",
          "height": 35
        },
        "id": "bWxY6GHcWz_t",
        "outputId": "1841faee-eb3b-4635-f38e-02cbf527fa00"
      },
      "execution_count": null,
      "outputs": [
        {
          "output_type": "execute_result",
          "data": {
            "text/plain": [
              "'d'"
            ],
            "application/vnd.google.colaboratory.intrinsic+json": {
              "type": "string"
            }
          },
          "metadata": {},
          "execution_count": 3
        }
      ]
    },
    {
      "cell_type": "markdown",
      "source": [
        "**4. What is the value of spam[-1]?**"
      ],
      "metadata": {
        "id": "Tyy7w8JjXtNa"
      }
    },
    {
      "cell_type": "code",
      "source": [
        "spam = ['a', 'b', 'c', 'd']\n",
        "spam[-1] # negative index # d"
      ],
      "metadata": {
        "colab": {
          "base_uri": "https://localhost:8080/",
          "height": 35
        },
        "id": "zo5u42zpXzNU",
        "outputId": "9bf5ffda-2eb2-49ff-a0db-5920a4380b0b"
      },
      "execution_count": 17,
      "outputs": [
        {
          "output_type": "execute_result",
          "data": {
            "text/plain": [
              "'d'"
            ],
            "application/vnd.google.colaboratory.intrinsic+json": {
              "type": "string"
            }
          },
          "metadata": {},
          "execution_count": 17
        }
      ]
    },
    {
      "cell_type": "markdown",
      "source": [
        "**5. What is the value of spam[:2]?**"
      ],
      "metadata": {
        "id": "gK8uFM7BYAJB"
      }
    },
    {
      "cell_type": "code",
      "source": [
        "spam = ['a', 'b', 'c', 'd']\n",
        "spam[:2]"
      ],
      "metadata": {
        "colab": {
          "base_uri": "https://localhost:8080/"
        },
        "id": "ukKT36Y3YC9w",
        "outputId": "210580d8-a7fb-4c15-9ae7-116f35fb5e49"
      },
      "execution_count": null,
      "outputs": [
        {
          "output_type": "execute_result",
          "data": {
            "text/plain": [
              "['a', 'b']"
            ]
          },
          "metadata": {},
          "execution_count": 5
        }
      ]
    },
    {
      "cell_type": "markdown",
      "source": [
        "**Let's pretend bacon has the list [3.14, 'cat,' 11, 'cat,' True] for the next three questions.**\n",
        "\n",
        "**6. What is the value of bacon.index('cat')?**"
      ],
      "metadata": {
        "id": "LZFaRnBLYVM5"
      }
    },
    {
      "cell_type": "code",
      "source": [
        "bacon = [3.14, 'cat', 11, 'cat', True] \n",
        "bacon.index('cat') # it returns the index of first occurrence of 'cat'\n"
      ],
      "metadata": {
        "colab": {
          "base_uri": "https://localhost:8080/"
        },
        "id": "Tz71e2vIYdju",
        "outputId": "022589ab-fb5a-4bf4-ef39-d52ef9cabdab"
      },
      "execution_count": null,
      "outputs": [
        {
          "output_type": "execute_result",
          "data": {
            "text/plain": [
              "1"
            ]
          },
          "metadata": {},
          "execution_count": 8
        }
      ]
    },
    {
      "cell_type": "markdown",
      "source": [
        "**7. How does bacon.append(99) change the look of the list value in bacon?**"
      ],
      "metadata": {
        "id": "cXDe4yciZGKz"
      }
    },
    {
      "cell_type": "code",
      "source": [
        "#List before change\n",
        "bacon = [3.14, 'cat', 11, 'cat', True] \n",
        "print(bacon)\n",
        "\n",
        "#List After change\n",
        "bacon.append(99) # append adds the item at the end of the list\n",
        "print(bacon)"
      ],
      "metadata": {
        "colab": {
          "base_uri": "https://localhost:8080/"
        },
        "id": "nQWbQuRJZJk_",
        "outputId": "d127df1c-c40a-47f7-c98b-474d9d3a207a"
      },
      "execution_count": null,
      "outputs": [
        {
          "output_type": "stream",
          "name": "stdout",
          "text": [
            "[3.14, 'cat', 11, 'cat', True]\n",
            "[3.14, 'cat', 11, 'cat', True, 99]\n"
          ]
        }
      ]
    },
    {
      "cell_type": "markdown",
      "source": [
        "**8. How does bacon.remove('cat') change the look of the list in bacon?**"
      ],
      "metadata": {
        "id": "Jv0HC2LuaeoX"
      }
    },
    {
      "cell_type": "code",
      "source": [
        "#List before change\n",
        "bacon = [3.14, 'cat', 11, 'cat', True] \n",
        "print(bacon)\n",
        "\n",
        "#List After remove\n",
        "bacon.remove('cat') # remove first occurrence of item\n",
        "print(bacon)"
      ],
      "metadata": {
        "colab": {
          "base_uri": "https://localhost:8080/"
        },
        "id": "r5Fmys9eahIt",
        "outputId": "1a7bf3c4-79b6-426c-ec2e-7bbef02fd326"
      },
      "execution_count": null,
      "outputs": [
        {
          "output_type": "stream",
          "name": "stdout",
          "text": [
            "[3.14, 'cat', 11, 'cat', True]\n",
            "[3.14, 11, 'cat', True]\n"
          ]
        }
      ]
    },
    {
      "cell_type": "markdown",
      "source": [
        "**9. What are the list concatenation and list replication operators?**\n",
        "\n",
        "**Ans.**\n",
        "The operator for list concatenation is +, while the operator for replication is *\n",
        "\n",
        "The + operator joins the two list.\n",
        "The * operator replicates the elements in the list.\n"
      ],
      "metadata": {
        "id": "UZ-djbOXMASS"
      }
    },
    {
      "cell_type": "code",
      "source": [
        "List1 = [1,2,3]\n",
        "List2 = [4,5,6]\n",
        "# list concatenation\n",
        "List3 = List1 + List2\n",
        "print(List3)\n",
        "\n",
        "# list replication\n",
        "List4 = List1 * 3\n",
        "print(List4)"
      ],
      "metadata": {
        "colab": {
          "base_uri": "https://localhost:8080/"
        },
        "id": "Hb_6hEWaMHuJ",
        "outputId": "a11f3891-deda-4c79-ce2a-feea2b8fa1e2"
      },
      "execution_count": null,
      "outputs": [
        {
          "output_type": "stream",
          "name": "stdout",
          "text": [
            "[1, 2, 3, 4, 5, 6]\n",
            "[1, 2, 3, 1, 2, 3, 1, 2, 3]\n"
          ]
        }
      ]
    },
    {
      "cell_type": "markdown",
      "source": [
        "**10. What is difference between the list methods append() and insert()?**\n",
        "\n",
        "**Ans.**\n",
        "While append() will add values only to the end of a list, insert() can add them anywhere in the list."
      ],
      "metadata": {
        "id": "M6J9IB_pPHyY"
      }
    },
    {
      "cell_type": "code",
      "source": [
        "List1 = [1,2,3]\n",
        "# list append\n",
        "List1.append(4)\n",
        "print(List1)\n",
        "\n",
        "# list insert\n",
        "List2 = [4,5,6,7]\n",
        "List2.insert(1, \"Raghv\")\n",
        "print(List2)"
      ],
      "metadata": {
        "colab": {
          "base_uri": "https://localhost:8080/"
        },
        "id": "D87VWpaUPOtS",
        "outputId": "43f3ab52-5c9c-4db9-bcfc-727b273da40b"
      },
      "execution_count": null,
      "outputs": [
        {
          "output_type": "stream",
          "name": "stdout",
          "text": [
            "[1, 2, 3, 4]\n",
            "[4, 'Raghv', 5, 6, 7]\n"
          ]
        }
      ]
    },
    {
      "cell_type": "markdown",
      "source": [
        "**11. What are the two methods for removing items from a list?**\n",
        "\n",
        "**Ans.**\n",
        "1. remove():\tIt helps to remove the very first given element matching from the list.                                                                       \n",
        "2. pop():\tThe pop() method removes an element from the list based on the index given.\n"
      ],
      "metadata": {
        "id": "LN3SgATUQdP4"
      }
    },
    {
      "cell_type": "code",
      "source": [
        "List1 = [1,2,3]\n",
        "# Remove\n",
        "List1.remove(2)\n",
        "print(List1)\n",
        "\n",
        "List2 = [4,5,6,7]\n",
        "# Pop\n",
        "List2.pop(1)\n",
        "print(List2)"
      ],
      "metadata": {
        "colab": {
          "base_uri": "https://localhost:8080/"
        },
        "id": "AZ_mq44CQli0",
        "outputId": "b723a801-0f21-49f8-91dc-f2dee1d79136"
      },
      "execution_count": null,
      "outputs": [
        {
          "output_type": "stream",
          "name": "stdout",
          "text": [
            "[1, 3]\n",
            "[4, 6, 7]\n"
          ]
        }
      ]
    },
    {
      "cell_type": "markdown",
      "source": [
        "**12. Describe how list values and string values are identical.**\n",
        "\n",
        "**Ans.**\n",
        "Lists are similar to strings, which are ordered collections of characters, except that the elements of a list can have any type and for any one list, the items can be of different types.\n",
        "\n",
        "*   Both lists and strings can be passed to len()\n",
        "*   Both have indexes and slices\n",
        "*   Can be used in for loops\n",
        "*   Can be concatenated or replicated\n"
      ],
      "metadata": {
        "id": "hRQNM-bTR-mK"
      }
    },
    {
      "cell_type": "code",
      "source": [
        "# operation string \n",
        "fruit = \"Apple\"\n",
        "print(fruit[0])\n",
        "print(fruit[0:-1])\n",
        "\n",
        "\n",
        "# Opertaion on List\n",
        "list1 = [\"apple\", \"mango\"]\n",
        "print(list1[0])\n",
        "print(list1[0:-1])\n"
      ],
      "metadata": {
        "colab": {
          "base_uri": "https://localhost:8080/"
        },
        "id": "1jWO-HOJ2nya",
        "outputId": "5ece7a61-2fcd-4cf4-aa9a-2b00e01bdbc3"
      },
      "execution_count": 16,
      "outputs": [
        {
          "output_type": "stream",
          "name": "stdout",
          "text": [
            "A\n",
            "Appl\n",
            "apple\n",
            "['apple']\n"
          ]
        }
      ]
    },
    {
      "cell_type": "markdown",
      "source": [
        "**13. What's the difference between tuples and lists?**\n",
        "\n",
        "**Ans.**\n",
        "\n",
        "**Tuples:**\n",
        "1.   Tuples are immutable.\n",
        "2.   Iteration in tuples is faster.\n",
        "3.   Tuples are appropriate for accessing the elements\n",
        "4.   Tuples consume lesser memory\n",
        "\n",
        "**Lists:**\n",
        "1.   Lists are mutable\n",
        "2.   Iteration in lists is time consuming\n",
        "3.   Lists are better for insertion and deletion operations\n",
        "4.   List consume more memory\n",
        "\n",
        "\n",
        "\n",
        "\n",
        "\n",
        "\n"
      ],
      "metadata": {
        "id": "KEbrxeSYfN9F"
      }
    },
    {
      "cell_type": "code",
      "source": [
        "# Operation On List\n",
        "fruits = ['apples', 'bananas', 'grapes', 'mangoes']\n",
        "print(fruits)\n",
        "\n",
        "fruits[0] = 'oranges'\n",
        "print(fruits)\n",
        "\n",
        "# Same Operation On Tuple\n",
        "fruits = ('apples', 'bananas', 'grapes', 'mangoes')\n",
        "print(fruits)\n",
        "\n",
        "fruits[0] = 'oranges' # Tuple dosn't support assignment\n",
        "print(fruits)"
      ],
      "metadata": {
        "colab": {
          "base_uri": "https://localhost:8080/",
          "height": 269
        },
        "id": "S_qkeDwWjxmO",
        "outputId": "e4f449ba-4b0a-4e8d-a819-85e2bd7a5878"
      },
      "execution_count": 1,
      "outputs": [
        {
          "output_type": "stream",
          "name": "stdout",
          "text": [
            "['apples', 'bananas', 'grapes', 'mangoes']\n",
            "['oranges', 'bananas', 'grapes', 'mangoes']\n",
            "('apples', 'bananas', 'grapes', 'mangoes')\n"
          ]
        },
        {
          "output_type": "error",
          "ename": "TypeError",
          "evalue": "ignored",
          "traceback": [
            "\u001b[0;31m---------------------------------------------------------------------------\u001b[0m",
            "\u001b[0;31mTypeError\u001b[0m                                 Traceback (most recent call last)",
            "\u001b[0;32m<ipython-input-1-72f6422daf2a>\u001b[0m in \u001b[0;36m<module>\u001b[0;34m\u001b[0m\n\u001b[1;32m     10\u001b[0m \u001b[0mprint\u001b[0m\u001b[0;34m(\u001b[0m\u001b[0mfruits\u001b[0m\u001b[0;34m)\u001b[0m\u001b[0;34m\u001b[0m\u001b[0;34m\u001b[0m\u001b[0m\n\u001b[1;32m     11\u001b[0m \u001b[0;34m\u001b[0m\u001b[0m\n\u001b[0;32m---> 12\u001b[0;31m \u001b[0mfruits\u001b[0m\u001b[0;34m[\u001b[0m\u001b[0;36m0\u001b[0m\u001b[0;34m]\u001b[0m \u001b[0;34m=\u001b[0m \u001b[0;34m'oranges'\u001b[0m\u001b[0;34m\u001b[0m\u001b[0;34m\u001b[0m\u001b[0m\n\u001b[0m\u001b[1;32m     13\u001b[0m \u001b[0mprint\u001b[0m\u001b[0;34m(\u001b[0m\u001b[0mfruits\u001b[0m\u001b[0;34m)\u001b[0m\u001b[0;34m\u001b[0m\u001b[0;34m\u001b[0m\u001b[0m\n",
            "\u001b[0;31mTypeError\u001b[0m: 'tuple' object does not support item assignment"
          ]
        }
      ]
    },
    {
      "cell_type": "markdown",
      "source": [
        "We encounter an error while changing the first element (at 0th index) of the tuple because of immutability. As tuples does not support item assignment."
      ],
      "metadata": {
        "id": "zZ0FzVQPkzqY"
      }
    },
    {
      "cell_type": "markdown",
      "source": [
        "**14. How do you type a tuple value that only contains the integer 42?**"
      ],
      "metadata": {
        "id": "4Dc_1IVIk9vM"
      }
    },
    {
      "cell_type": "code",
      "source": [
        "number = (42,)\n",
        "print(number)\n",
        "print(type(number))"
      ],
      "metadata": {
        "colab": {
          "base_uri": "https://localhost:8080/"
        },
        "id": "zn55nAwYlYAB",
        "outputId": "10bffc41-2a9d-4f61-ed60-ade273a2a158"
      },
      "execution_count": 6,
      "outputs": [
        {
          "output_type": "stream",
          "name": "stdout",
          "text": [
            "(42,)\n",
            "<class 'tuple'>\n"
          ]
        }
      ]
    },
    {
      "cell_type": "markdown",
      "source": [
        "**15. How do you get a list value's tuple form? How do you get a tuple value's list form?**\n",
        "\n"
      ],
      "metadata": {
        "id": "qz2ZSGucmcfs"
      }
    },
    {
      "cell_type": "code",
      "source": [
        "# List\n",
        "fruits = ['apples', 'bananas', 'grapes', 'mangoes']\n",
        "print(f\"List : {fruits}\")\n",
        "\n",
        "# List to tuple conversion\n",
        "tuple1 = tuple(fruits)\n",
        "print(f\"List to tuple conversion: {tuple1}\")\n",
        "\n",
        "# Tuple\n",
        "tuple2 = (\"Ram\", \"Shyam\", \"Ganesh\")\n",
        "print(f\"Tuple: {tuple2}\")\n",
        "\n",
        "# Tuple to List conversion\n",
        "list2 = list(tuple2)\n",
        "print(f\"Tuple to list conversion: {list2}\")\n",
        "\n"
      ],
      "metadata": {
        "colab": {
          "base_uri": "https://localhost:8080/"
        },
        "id": "b4VizczAoRig",
        "outputId": "aaaafe5a-49e4-4e28-a6e1-f83c659aab8d"
      },
      "execution_count": 12,
      "outputs": [
        {
          "output_type": "stream",
          "name": "stdout",
          "text": [
            "List : ['apples', 'bananas', 'grapes', 'mangoes']\n",
            "List to tuple conversion: ('apples', 'bananas', 'grapes', 'mangoes')\n",
            "Tuple: ('Ram', 'Shyam', 'Ganesh')\n",
            "Tuple to list conversion: ['Ram', 'Shyam', 'Ganesh']\n"
          ]
        }
      ]
    },
    {
      "cell_type": "markdown",
      "source": [
        "**16. Variables that \"contain\" list values are not necessarily lists themselves. Instead, what do they contain?**\n",
        "\n",
        "**Ans.**\n",
        "They contain references to list values."
      ],
      "metadata": {
        "id": "GN74kixbqLJF"
      }
    },
    {
      "cell_type": "markdown",
      "source": [
        "**17. How do you distinguish between copy.copy() and copy.deepcopy()?**\n",
        "\n",
        "**Ans.**\n",
        "\n",
        "copy.copy() create reference to original object. If you change copied object - you change the original object. copy.deepcopy() creates new object and does real copying of original object to new one. Changing new deepcopied object doesn't affect original object."
      ],
      "metadata": {
        "id": "4LO2pO9HrN4Q"
      }
    },
    {
      "cell_type": "code",
      "source": [
        "\n",
        "# importing copy module\n",
        "import copy\n",
        " \n",
        "# initializing list 1\n",
        "li1 = [1, 2, 3, 4]\n",
        " \n",
        "# using copy for shallow copy\n",
        "li2 = copy.copy(li1)\n",
        "print(\"li2 ID: \", id(li2), \"Value: \", li2)\n",
        "# using deepcopy for deepcopy\n",
        "li3 = copy.deepcopy(li1)\n",
        "print(\"li3 ID: \", id(li3), \"Value: \", li3)"
      ],
      "metadata": {
        "colab": {
          "base_uri": "https://localhost:8080/"
        },
        "id": "damHHs-rs0LO",
        "outputId": "c330a085-0664-4296-a4ac-2f05310196e9"
      },
      "execution_count": 13,
      "outputs": [
        {
          "output_type": "stream",
          "name": "stdout",
          "text": [
            "li2 ID:  139874058929808 Value:  [1, 2, 3, 4]\n",
            "li3 ID:  139874053520752 Value:  [1, 2, 3, 4]\n"
          ]
        }
      ]
    }
  ]
}