{
  "nbformat": 4,
  "nbformat_minor": 0,
  "metadata": {
    "colab": {
      "provenance": [],
      "authorship_tag": "ABX9TyNNUFZEoaIx/3C4yFGIM+2o",
      "include_colab_link": true
    },
    "kernelspec": {
      "name": "python3",
      "display_name": "Python 3"
    },
    "language_info": {
      "name": "python"
    }
  },
  "cells": [
    {
      "cell_type": "markdown",
      "metadata": {
        "id": "view-in-github",
        "colab_type": "text"
      },
      "source": [
        "<a href=\"https://colab.research.google.com/github/raghvendrasingh1005/INeuron-demo/blob/main/Assignment_19.ipynb\" target=\"_parent\"><img src=\"https://colab.research.google.com/assets/colab-badge.svg\" alt=\"Open In Colab\"/></a>"
      ]
    },
    {
      "cell_type": "markdown",
      "source": [
        "**1. Make a class called Thing with no contents and print it. Then, create an object called example from this class and also print it. Are the printed values the same or different?**"
      ],
      "metadata": {
        "id": "eJtIlvfrzeM8"
      }
    },
    {
      "cell_type": "code",
      "source": [
        "class Thing:\n",
        "  pass\n",
        "\n",
        "print(Thing)"
      ],
      "metadata": {
        "colab": {
          "base_uri": "https://localhost:8080/"
        },
        "id": "w76aMsCrzkfM",
        "outputId": "fa813d9b-5c33-4f17-b81e-005e67fb626b"
      },
      "execution_count": 2,
      "outputs": [
        {
          "output_type": "stream",
          "name": "stdout",
          "text": [
            "<class '__main__.Thing'>\n"
          ]
        }
      ]
    },
    {
      "cell_type": "code",
      "source": [
        "obj = Thing()\n",
        "print(obj)"
      ],
      "metadata": {
        "colab": {
          "base_uri": "https://localhost:8080/"
        },
        "id": "W37VmBPGz3AB",
        "outputId": "c7c720e4-9be5-46fc-cd81-7c933303ed3a"
      },
      "execution_count": 3,
      "outputs": [
        {
          "output_type": "stream",
          "name": "stdout",
          "text": [
            "<__main__.Thing object at 0x7f06b32d6d40>\n"
          ]
        }
      ]
    },
    {
      "cell_type": "markdown",
      "source": [
        " Printed values are not same"
      ],
      "metadata": {
        "id": "ABDG-xVx0JNO"
      }
    },
    {
      "cell_type": "markdown",
      "source": [
        "**2. Create a new class called Thing2 and add the value 'abc' to the letters class attribute. Letters should be printed.**"
      ],
      "metadata": {
        "id": "66_I5Vfw0LMo"
      }
    },
    {
      "cell_type": "code",
      "source": [
        "class Thing2:\n",
        "  letters = 'abc'\n",
        "\n",
        "Thing2.letters"
      ],
      "metadata": {
        "colab": {
          "base_uri": "https://localhost:8080/",
          "height": 35
        },
        "id": "enIs1rs60Xj8",
        "outputId": "33c619fa-dcf5-4902-a4ca-281d1a1ffc5b"
      },
      "execution_count": 5,
      "outputs": [
        {
          "output_type": "execute_result",
          "data": {
            "text/plain": [
              "'abc'"
            ],
            "application/vnd.google.colaboratory.intrinsic+json": {
              "type": "string"
            }
          },
          "metadata": {},
          "execution_count": 5
        }
      ]
    },
    {
      "cell_type": "markdown",
      "source": [
        "**3. Make yet another class called, of course, Thing3. This time, assign the value 'xyz' to an instance (object) attribute called letters. Print letters. Do you need to make an object from the class to do this?**"
      ],
      "metadata": {
        "id": "18GWnQX20wd3"
      }
    },
    {
      "cell_type": "code",
      "source": [
        "class Thing3:\n",
        "  def __init__(self, letter):\n",
        "    self.letter = letter\n",
        "  def letters(self):\n",
        "        print(self.letter)\n",
        "Thing3('xyz').letters()"
      ],
      "metadata": {
        "colab": {
          "base_uri": "https://localhost:8080/"
        },
        "id": "wHTbyvMB00_E",
        "outputId": "07c6629c-34a7-4167-c4aa-e40af66e29ce"
      },
      "execution_count": 6,
      "outputs": [
        {
          "output_type": "stream",
          "name": "stdout",
          "text": [
            "xyz\n"
          ]
        }
      ]
    },
    {
      "cell_type": "markdown",
      "source": [
        "**4. Create an Element class with the instance attributes name, symbol, and number. Create a class object with the values 'Hydrogen,' 'H,' and 1.**"
      ],
      "metadata": {
        "id": "0dxPTIsB2VsK"
      }
    },
    {
      "cell_type": "code",
      "source": [
        "class Element:\n",
        "  def __init__(self, name, symbol, number):\n",
        "    self.name = name\n",
        "    self.symbol = symbol\n",
        "    self.number = number\n",
        "\n",
        "obj = Element('Hydrogen','H',1)\n",
        "obj.name"
      ],
      "metadata": {
        "colab": {
          "base_uri": "https://localhost:8080/",
          "height": 35
        },
        "id": "JsAkYi5l2bnD",
        "outputId": "4dca677e-6184-48c1-e052-517b43c6bb6e"
      },
      "execution_count": 7,
      "outputs": [
        {
          "output_type": "execute_result",
          "data": {
            "text/plain": [
              "'Hydrogen'"
            ],
            "application/vnd.google.colaboratory.intrinsic+json": {
              "type": "string"
            }
          },
          "metadata": {},
          "execution_count": 7
        }
      ]
    },
    {
      "cell_type": "markdown",
      "source": [
        "**5. Make a dictionary with these keys and values: 'name': 'Hydrogen', 'symbol': 'H', 'number': 1. Then, create an object called hydrogen from class Element using this dictionary.**"
      ],
      "metadata": {
        "id": "bK0UQrPg3Q9h"
      }
    },
    {
      "cell_type": "code",
      "source": [
        "\n",
        "dict = {'name':'Hydrogen', 'symbol':'H','number': 1}\n",
        "hydrogen = Element(**dict) # using dictionary unpacking **\n",
        "hydrogen.symbol"
      ],
      "metadata": {
        "colab": {
          "base_uri": "https://localhost:8080/",
          "height": 35
        },
        "id": "O8BBIsCF3TWU",
        "outputId": "d648483f-df86-4122-8573-135af771c82c"
      },
      "execution_count": 8,
      "outputs": [
        {
          "output_type": "execute_result",
          "data": {
            "text/plain": [
              "'H'"
            ],
            "application/vnd.google.colaboratory.intrinsic+json": {
              "type": "string"
            }
          },
          "metadata": {},
          "execution_count": 8
        }
      ]
    },
    {
      "cell_type": "markdown",
      "source": [
        "**6. For the Element class, define a method called dump() that prints the values of the object’s attributes (name, symbol, and number). Create the hydrogen object from this new definition and use dump() to print its attributes.**"
      ],
      "metadata": {
        "id": "Lu0P7avB3YX1"
      }
    },
    {
      "cell_type": "code",
      "source": [
        "class Element:\n",
        "    def __init__(self,name,symbol,number):\n",
        "        self.name = name\n",
        "        self.symbol = symbol\n",
        "        self.number = number\n",
        "    def dump(self):\n",
        "        print(self.name,self.symbol,self.number)\n",
        "     \n",
        "hydrogen = Element('Hydrogen','H',1)\n",
        "hydrogen.dump()"
      ],
      "metadata": {
        "colab": {
          "base_uri": "https://localhost:8080/"
        },
        "id": "G648B87q3hue",
        "outputId": "a26a3a81-ffb6-4a28-b672-3702c27afa8c"
      },
      "execution_count": 9,
      "outputs": [
        {
          "output_type": "stream",
          "name": "stdout",
          "text": [
            "Hydrogen H 1\n"
          ]
        }
      ]
    },
    {
      "cell_type": "markdown",
      "source": [
        "**7. Call print(hydrogen). In the definition of Element, change the name of method dump to __str__, create a new hydrogen object, and call print(hydrogen) again.**"
      ],
      "metadata": {
        "id": "J7GgqLLA3tC5"
      }
    },
    {
      "cell_type": "code",
      "source": [
        "class Element:\n",
        "    def __init__(self,name,symbol,number):\n",
        "        self.name = name\n",
        "        self.symbol = symbol\n",
        "        self.number = number\n",
        "    def __str__(self):\n",
        "        return ('name=%s, symbol=%s, number=%s'% (self.name, self.symbol, self.number) )\n",
        "     \n",
        "\n",
        "hydrogen = Element('Hydrogen','H',1)\n",
        "print(hydrogen)\n",
        "     "
      ],
      "metadata": {
        "colab": {
          "base_uri": "https://localhost:8080/"
        },
        "id": "8CVHZRsu3xvf",
        "outputId": "fe97668e-6568-4cee-e70f-298efce21292"
      },
      "execution_count": 10,
      "outputs": [
        {
          "output_type": "stream",
          "name": "stdout",
          "text": [
            "name=Hydrogen, symbol=H, number=1\n"
          ]
        }
      ]
    },
    {
      "cell_type": "markdown",
      "source": [
        "**8. Modify Element to make the attributes name, symbol, and number private. Define a getter property for each to return its value.**"
      ],
      "metadata": {
        "id": "mF98BMpn4D0X"
      }
    },
    {
      "cell_type": "code",
      "source": [
        "class Element(): \n",
        "    def __init__(self ,name,symbol,number):\n",
        "        self.__name = name\n",
        "        self.__symbol = symbol\n",
        "        self.__number = number\n",
        "    @property\n",
        "    def name(self):\n",
        "        return (self.__name)\n",
        "    @property\n",
        "    def symbol(self):\n",
        "        return (self.__symbol)\n",
        "    @property\n",
        "    def number(self):\n",
        "        return (self.__number)\n",
        "     \n",
        "\n",
        "hydrogen = Element('Hydrogen','H',1)\n",
        "hydrogen.name"
      ],
      "metadata": {
        "colab": {
          "base_uri": "https://localhost:8080/",
          "height": 35
        },
        "id": "eNN0xvYn4J9u",
        "outputId": "196b2146-51a7-42c6-91eb-02c9031522e4"
      },
      "execution_count": 11,
      "outputs": [
        {
          "output_type": "execute_result",
          "data": {
            "text/plain": [
              "'Hydrogen'"
            ],
            "application/vnd.google.colaboratory.intrinsic+json": {
              "type": "string"
            }
          },
          "metadata": {},
          "execution_count": 11
        }
      ]
    },
    {
      "cell_type": "markdown",
      "source": [
        "**9. Define three classes: Bear, Rabbit, and Octothorpe. For each, define only one method: eats(). This should return 'berries' (Bear), 'clover' (Rabbit), or 'campers' (Octothorpe). Create one object from each and print what it eats.**"
      ],
      "metadata": {
        "id": "IqdrdG4E4W7I"
      }
    },
    {
      "cell_type": "code",
      "source": [
        "class Bear:\n",
        "    def eats():\n",
        "        print('berries')\n",
        "\n",
        "class Rabbit:\n",
        "    def eats():\n",
        "        print('clover')\n",
        "\n",
        "class Octothorpe:\n",
        "    def eats():\n",
        "        print('campers')"
      ],
      "metadata": {
        "id": "VRRkZ1FK4cfQ"
      },
      "execution_count": 12,
      "outputs": []
    },
    {
      "cell_type": "code",
      "source": [
        "Bear.eats()"
      ],
      "metadata": {
        "colab": {
          "base_uri": "https://localhost:8080/"
        },
        "id": "8ipKLQNO4lyF",
        "outputId": "c6508a87-350d-4748-f626-39195d0e37f0"
      },
      "execution_count": 13,
      "outputs": [
        {
          "output_type": "stream",
          "name": "stdout",
          "text": [
            "berries\n"
          ]
        }
      ]
    },
    {
      "cell_type": "code",
      "source": [
        "Rabbit.eats()"
      ],
      "metadata": {
        "colab": {
          "base_uri": "https://localhost:8080/"
        },
        "id": "WE0s2ZJO4pIs",
        "outputId": "9c550565-bd65-44cb-d65e-7abbaa7962be"
      },
      "execution_count": 14,
      "outputs": [
        {
          "output_type": "stream",
          "name": "stdout",
          "text": [
            "clover\n"
          ]
        }
      ]
    },
    {
      "cell_type": "code",
      "source": [
        "Octothorpe.eats()"
      ],
      "metadata": {
        "colab": {
          "base_uri": "https://localhost:8080/"
        },
        "id": "cFe-gnLp4y9I",
        "outputId": "2e3ec72a-f6aa-4e43-9ad5-80f816c2f363"
      },
      "execution_count": 15,
      "outputs": [
        {
          "output_type": "stream",
          "name": "stdout",
          "text": [
            "campers\n"
          ]
        }
      ]
    },
    {
      "cell_type": "markdown",
      "source": [
        "**10. Define these classes: Laser, Claw, and SmartPhone. Each has only one method: does(). This returns 'disintegrate' (Laser), 'crush' (Claw), or 'ring' (SmartPhone). Then, define the class Robot that has one instance (object) of each of these. Define a does() method for the Robot that prints what its component objects do.**"
      ],
      "metadata": {
        "id": "Q0lh-r_g4494"
      }
    },
    {
      "cell_type": "code",
      "source": [
        "class Laser:\n",
        "    def does(self):\n",
        "        return('disitegrate')\n",
        "class Claw:\n",
        "    def does(self):\n",
        "        return('crush')\n",
        "class SmartPhone:\n",
        "    def does(self):\n",
        "        return('ring')\n",
        "        \n",
        "class Robot:\n",
        "    def __init__(self):\n",
        "        self.laser = Laser()\n",
        "        self.claw = Claw()\n",
        "        self.smartphone = SmartPhone()\n",
        "    def does(self):\n",
        "        return ('Laser is %s, Claw is %s, SmartPhone is %s' % (self.laser.does(),self.claw.does(),self.smartphone.does()))\n",
        "     "
      ],
      "metadata": {
        "id": "h2h-_KgZ5D5b"
      },
      "execution_count": 16,
      "outputs": []
    },
    {
      "cell_type": "code",
      "source": [
        "Robo = Robot()\n",
        "Robo.does()"
      ],
      "metadata": {
        "colab": {
          "base_uri": "https://localhost:8080/",
          "height": 35
        },
        "id": "TZv7dojx5QUT",
        "outputId": "4a45ce3a-38ef-476e-ea29-8b0b817f0239"
      },
      "execution_count": 19,
      "outputs": [
        {
          "output_type": "execute_result",
          "data": {
            "text/plain": [
              "'Laser is disitegrate, Claw is crush, SmartPhone is ring'"
            ],
            "application/vnd.google.colaboratory.intrinsic+json": {
              "type": "string"
            }
          },
          "metadata": {},
          "execution_count": 19
        }
      ]
    }
  ]
}