{
  "nbformat": 4,
  "nbformat_minor": 0,
  "metadata": {
    "colab": {
      "provenance": [],
      "authorship_tag": "ABX9TyMLNniLCiDyvW1I1LGpUt1K",
      "include_colab_link": true
    },
    "kernelspec": {
      "name": "python3",
      "display_name": "Python 3"
    },
    "language_info": {
      "name": "python"
    }
  },
  "cells": [
    {
      "cell_type": "markdown",
      "metadata": {
        "id": "view-in-github",
        "colab_type": "text"
      },
      "source": [
        "<a href=\"https://colab.research.google.com/github/raghvendrasingh1005/INeuron-demo/blob/main/Assignment_3.ipynb\" target=\"_parent\"><img src=\"https://colab.research.google.com/assets/colab-badge.svg\" alt=\"Open In Colab\"/></a>"
      ]
    },
    {
      "cell_type": "markdown",
      "source": [
        "**1. Why are functions advantageous to have in your programs?**\n",
        "\n",
        "**Ans.**  Functions are reusable in the program. A single solution for a repeating problem so you don’t have to do the same work over and over again."
      ],
      "metadata": {
        "id": "LbYla5wqoGGn"
      }
    },
    {
      "cell_type": "markdown",
      "source": [
        "**2. When does the code in a function run: when it's specified or when it's called?**\n",
        "\n",
        "**Ans.** The code in a function executes when the function is called, not when the function is defined."
      ],
      "metadata": {
        "id": "J3hSKQQhvd3W"
      }
    },
    {
      "cell_type": "markdown",
      "source": [
        "**3. What statement creates a function?**\n",
        "\n",
        "**Ans.:** The “def” keyword is use for defining a function in Python"
      ],
      "metadata": {
        "id": "T0kCLZcvwgB_"
      }
    },
    {
      "cell_type": "code",
      "source": [
        "def display():\n",
        "  print(\"Hello!\")\n",
        "\n",
        "display()\n"
      ],
      "metadata": {
        "colab": {
          "base_uri": "https://localhost:8080/"
        },
        "id": "s9FZqRf81Oty",
        "outputId": "bf0c15b2-1158-403a-e6ce-6913d041c619"
      },
      "execution_count": null,
      "outputs": [
        {
          "output_type": "stream",
          "name": "stdout",
          "text": [
            "Hello!\n"
          ]
        }
      ]
    },
    {
      "cell_type": "markdown",
      "source": [
        "**4. What is the difference between a function and a function call?**\n",
        "\n",
        "**Ans.** A function is a block of code that does a particular operation and returns a result. It usually accepts inputs as parameters and returns a result. The parameters are not mandatory. \n",
        "A function call is the code used to pass control to a function."
      ],
      "metadata": {
        "id": "g9LVouyy1lhw"
      }
    },
    {
      "cell_type": "code",
      "source": [
        "# Function declaration\n",
        "def display(name):\n",
        "  print(f\"Hello! {name}\")\n",
        "\n",
        "# Function call\n",
        "display(\"Raghvendra\")"
      ],
      "metadata": {
        "colab": {
          "base_uri": "https://localhost:8080/"
        },
        "id": "uw6MsqdX3Sba",
        "outputId": "00b0716f-7040-416a-d8aa-305d6996b5d3"
      },
      "execution_count": null,
      "outputs": [
        {
          "output_type": "stream",
          "name": "stdout",
          "text": [
            "Hello! Raghvendra\n"
          ]
        }
      ]
    },
    {
      "cell_type": "markdown",
      "source": [
        "**5. How many global scopes are there in a Python program? How many local scopes?**\n",
        "\n",
        "**Ans.** There's only one global Python scope per program execution. This scope remains in existence until the program terminates.\n",
        "\n",
        "A variable created inside a function belongs to the local scope of that function, and can only be used inside that function.\n",
        "\n",
        "\n"
      ],
      "metadata": {
        "id": "Uo5Xd_lp2lFH"
      }
    },
    {
      "cell_type": "code",
      "source": [
        "# Global Scope\n",
        "x = 300\n",
        "\n",
        "def myfunc():\n",
        "  print(x)\n",
        "\n",
        "myfunc()\n",
        "\n",
        "print(x)"
      ],
      "metadata": {
        "colab": {
          "base_uri": "https://localhost:8080/"
        },
        "id": "_MxAoDQaG7Ys",
        "outputId": "1da20191-9645-436f-d9f6-861dea0fd7a8"
      },
      "execution_count": 1,
      "outputs": [
        {
          "output_type": "stream",
          "name": "stdout",
          "text": [
            "300\n",
            "300\n"
          ]
        }
      ]
    },
    {
      "cell_type": "code",
      "source": [
        "# Local Scope\n",
        "def myfunc():\n",
        "  x = 300\n",
        "  print(x)\n",
        "\n",
        "myfunc()"
      ],
      "metadata": {
        "colab": {
          "base_uri": "https://localhost:8080/"
        },
        "id": "CQy-5DQSHTCa",
        "outputId": "d6fed580-ee5f-4292-8982-aaf4c7559186"
      },
      "execution_count": 2,
      "outputs": [
        {
          "output_type": "stream",
          "name": "stdout",
          "text": [
            "300\n"
          ]
        }
      ]
    },
    {
      "cell_type": "markdown",
      "source": [
        "**6. What happens to variables in a local scope when the function call returns?**\n",
        "\n",
        "**Ans.** When the execution of the function terminates (returns), the local variables are destroyed."
      ],
      "metadata": {
        "id": "LxdLKQf2Hjii"
      }
    },
    {
      "cell_type": "markdown",
      "source": [
        "**7. What is the concept of a return value? Is it possible to have a return value in an expression?**\n",
        "\n",
        "**Ans.** A return value is the value that a function call evaluates to. Like any value, a return value can be used as part of an expression.\n"
      ],
      "metadata": {
        "id": "biCOuzB1LGfc"
      }
    },
    {
      "cell_type": "markdown",
      "source": [
        "**8. If a function does not have a return statement, what is the return value of a call to that function?**\n",
        "\n",
        "**Ans.** If there is no return statement for a function, its return value is None."
      ],
      "metadata": {
        "id": "yPH-JgoPMXBN"
      }
    },
    {
      "cell_type": "markdown",
      "source": [
        "**9. How do you make a function variable refer to the global variable?**\n",
        "\n",
        "**Ans.** A global statement will force a variable in a function to refer to the global variable."
      ],
      "metadata": {
        "id": "LPFbSry3Mkqi"
      }
    },
    {
      "cell_type": "markdown",
      "source": [
        "**10. What is the data type of None?**\n",
        "\n",
        "**Ans.** The data type of None is NoneType."
      ],
      "metadata": {
        "id": "KoTt8KcfOREv"
      }
    },
    {
      "cell_type": "markdown",
      "source": [
        "**11. What does the sentence import areallyourpetsnamederic do?**\n",
        "\n",
        "**Ans.** That import statement imports a module named areallyourpetsnamederic."
      ],
      "metadata": {
        "id": "mP5d4NBmOgxt"
      }
    },
    {
      "cell_type": "markdown",
      "source": [
        "**12. If you had a bacon() feature in a spam module, what would you call it after importing spam?**\n",
        "\n",
        "**Ans.** This function can be called with spam.bacon()."
      ],
      "metadata": {
        "id": "jgx-c6FrPLQi"
      }
    },
    {
      "cell_type": "markdown",
      "source": [
        "**13. What can you do to save a programme from crashing if it encounters an error?**\n",
        "\n",
        "**Ans.** When it encounters an error, the control is passed to the except block, skipping the code in between"
      ],
      "metadata": {
        "id": "dZejkQhFPYvp"
      }
    },
    {
      "cell_type": "markdown",
      "source": [
        "**14. What is the purpose of the try clause? What is the purpose of the except clause?**\n",
        "\n",
        "**Ans.** \n",
        "\n",
        "The try block lets you test a block of code for errors.\n",
        "\n",
        "The except block lets you handle the error."
      ],
      "metadata": {
        "id": "MTFvHzFOPwtl"
      }
    }
  ]
}