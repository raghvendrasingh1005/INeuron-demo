{
  "nbformat": 4,
  "nbformat_minor": 0,
  "metadata": {
    "colab": {
      "provenance": [],
      "authorship_tag": "ABX9TyNxvDU9M57k/O5BGAaPkgUu",
      "include_colab_link": true
    },
    "kernelspec": {
      "name": "python3",
      "display_name": "Python 3"
    },
    "language_info": {
      "name": "python"
    }
  },
  "cells": [
    {
      "cell_type": "markdown",
      "metadata": {
        "id": "view-in-github",
        "colab_type": "text"
      },
      "source": [
        "<a href=\"https://colab.research.google.com/github/raghvendrasingh1005/INeuron-demo/blob/main/Assignmnet_14.ipynb\" target=\"_parent\"><img src=\"https://colab.research.google.com/assets/colab-badge.svg\" alt=\"Open In Colab\"/></a>"
      ]
    },
    {
      "cell_type": "markdown",
      "source": [
        "**1. What does RGBA stand for?**\n",
        "\n",
        "**Ans:**\n",
        "\n",
        "RGBA(Red-Green-Blue-Alpha)                                               \n",
        "The RGB color model is extended in this specification to include “alpha” to allow specification of the opacity of a color."
      ],
      "metadata": {
        "id": "776lBf2yvlZu"
      }
    },
    {
      "cell_type": "markdown",
      "source": [
        "**2. From the Pillow module, how do you get the RGBA value of any images?**\n",
        "\n",
        "**Ans:**\n",
        "\n",
        "Pillow offers the ImageColor. getcolor() function so you don't have to memorize RGBA values for the colors you want to use. This function takes a color name string as its first argument, and the string 'RGBA' as its second argument, and it returns an RGBA tuple."
      ],
      "metadata": {
        "id": "ajEbSjoJv-_o"
      }
    },
    {
      "cell_type": "markdown",
      "source": [
        "**3. What is a box tuple, and how does it work?**\n",
        "\n",
        "**Ans:**\n",
        "\n",
        "The box. tuple submodule provides read-only access for the tuple userdata type. It allows, for a single tuple: selective retrieval of the field contents, retrieval of information about size, iteration over all the fields, and conversion to a Lua table."
      ],
      "metadata": {
        "id": "gVMqhkj-wY-J"
      }
    },
    {
      "cell_type": "markdown",
      "source": [
        "**4. Use your image and load in notebook then, How can you find out the width and height of an Image object?**"
      ],
      "metadata": {
        "id": "NIqtEdoMwy2c"
      }
    },
    {
      "cell_type": "code",
      "source": [
        "# import required module\n",
        "from PIL import Image\n",
        "  \n",
        "# get image\n",
        "filepath = \"geeksforgeeks.png\"\n",
        "img = Image.open(filepath)\n",
        "  \n",
        "# get width and height\n",
        "width = img.width\n",
        "height = img.height\n",
        "  \n",
        "# display width and height\n",
        "print(\"The height of the image is: \", height)\n",
        "print(\"The width of the image is: \", width)"
      ],
      "metadata": {
        "id": "sp-WgxDnyBeZ"
      },
      "execution_count": null,
      "outputs": []
    },
    {
      "cell_type": "markdown",
      "source": [
        "**5. What method would you call to get Image object for a 100×100 image, excluding the lower-left quarter of it?**"
      ],
      "metadata": {
        "id": "m0BIla-TyDuq"
      }
    },
    {
      "cell_type": "code",
      "source": [
        "from PIL import Image\n",
        "import numpy as np      \n",
        "  \n",
        "# Opening the image and converting \n",
        "# it to RGB color mode\n",
        "# IMAGE_PATH => Path to the image\n",
        "img = Image.open(r\"IMAGE_PATH\").convert('RGB')\n",
        "  \n",
        "# Extracting the image data &\n",
        "# creating an numpy array out of it\n",
        "img_arr = np.array(img)\n",
        "  \n",
        "# Turning the pixel values of the 100x100 pixels to black \n",
        "img_arr[0 : 100, 0 : 100] = (0, 0, 0)\n",
        "  \n",
        "# Creating an image out of the previously modified array\n",
        "img = Image.fromarray(img_arr)\n",
        "  \n",
        "# Displaying the image\n",
        "img.show()"
      ],
      "metadata": {
        "id": "g2WoTLsTzWGb"
      },
      "execution_count": null,
      "outputs": []
    },
    {
      "cell_type": "markdown",
      "source": [
        "**6. After making changes to an Image object, how could you save it as an image file?**"
      ],
      "metadata": {
        "id": "PlhKeaIXzbY2"
      }
    },
    {
      "cell_type": "code",
      "source": [
        "from PIL import Image \n",
        "import PIL \n",
        "  \n",
        "# creating a image object (main image) \n",
        "im1 = Image.open(r\"C:\\Users\\System-Pc\\Desktop\\flower1.jpg\") \n",
        "  \n",
        "# save a image using extension\n",
        "im1 = im1.save(\"geeks.jpg\")"
      ],
      "metadata": {
        "id": "1oXWj7jUz9o_"
      },
      "execution_count": null,
      "outputs": []
    },
    {
      "cell_type": "markdown",
      "source": [
        "**7. What module contains Pillow’s shape-drawing code?**"
      ],
      "metadata": {
        "id": "eKpRgKoW0F3o"
      }
    },
    {
      "cell_type": "code",
      "source": [
        "#Import required libraries\n",
        "import sys\n",
        "from PIL import Image, ImageDraw\n",
        "\n",
        "#Create Image object\n",
        "im = Image.open(\"images/logo.jpg\")\n",
        "\n",
        "#Draw line\n",
        "draw = ImageDraw.Draw(im)\n",
        "draw.line((0, 0) + im.size, fill=128)\n",
        "draw.line((0, im.size[1], im.size[0], 0), fill=128)\n",
        "\n",
        "#Show image\n",
        "im.show()"
      ],
      "metadata": {
        "id": "hjyYHq8i0YVa"
      },
      "execution_count": null,
      "outputs": []
    },
    {
      "cell_type": "markdown",
      "source": [
        "**8. Image objects do not have drawing methods. What kind of object does? How do you get this kind of object?**"
      ],
      "metadata": {
        "id": "qlIMMdB-0eqM"
      }
    },
    {
      "cell_type": "code",
      "source": [
        "# Importing Image and ImageDraw from PIL\n",
        "from PIL import Image, ImageDraw\n",
        "  \n",
        "# Opening the image to be used\n",
        "img = Image.open('img_path.png')\n",
        "  \n",
        "# Creating a Draw object\n",
        "draw = ImageDraw.Draw(img)\n",
        "  \n",
        "# Drawing a green rectangle\n",
        "# in the middle of the image\n",
        "draw.rectangle(xy = (50, 50, 150, 150),\n",
        "               fill = (0, 127, 0),\n",
        "               outline = (255, 255, 255),\n",
        "               width = 5)\n",
        "  \n",
        "# Method to display the modified image\n",
        "img.show()"
      ],
      "metadata": {
        "id": "_lrSz49N0ktR"
      },
      "execution_count": null,
      "outputs": []
    }
  ]
}