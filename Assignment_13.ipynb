{
  "nbformat": 4,
  "nbformat_minor": 0,
  "metadata": {
    "colab": {
      "provenance": [],
      "authorship_tag": "ABX9TyPkzy00QvKu3ykYRYp3/K8x",
      "include_colab_link": true
    },
    "kernelspec": {
      "name": "python3",
      "display_name": "Python 3"
    },
    "language_info": {
      "name": "python"
    }
  },
  "cells": [
    {
      "cell_type": "markdown",
      "metadata": {
        "id": "view-in-github",
        "colab_type": "text"
      },
      "source": [
        "<a href=\"https://colab.research.google.com/github/raghvendrasingh1005/INeuron-demo/blob/main/Assignment_13.ipynb\" target=\"_parent\"><img src=\"https://colab.research.google.com/assets/colab-badge.svg\" alt=\"Open In Colab\"/></a>"
      ]
    },
    {
      "cell_type": "markdown",
      "source": [
        "**1. What advantages do Excel spreadsheets have over CSV spreadsheets?**\n",
        "\n",
        "**Ans.**\n",
        "\n",
        "Excel is more superior when compared with the CSV file format; thus, CSV consumes less amount of file size when the user is importing data; it is a much faster format compared to excel. CSV does not manipulate data and stores it as-is. Excel also allows the user the add-in feature."
      ],
      "metadata": {
        "id": "7Tm1gYBdiBZQ"
      }
    },
    {
      "cell_type": "markdown",
      "source": [
        "**2.What do you pass to csv.reader() and csv.writer() to create reader and writer objects?**\n",
        "\n",
        "**Ans.**\n",
        "\n",
        "First, call open() and pass it 'w' to open a file in write mode. This will create the object you can then pass to csv. writer() to create a Writer object. On Windows, you'll also need to pass a blank string for the open() function's newline keyword argument."
      ],
      "metadata": {
        "id": "xLm_C9Rsib4U"
      }
    },
    {
      "cell_type": "markdown",
      "source": [
        "**3. What modes do File objects for reader and writer objects need to be opened in?**\n",
        "\n",
        "**Ans.**\n",
        "\n",
        "'r'\tOpen a file for reading. (default)                                      \n",
        "'w'\tOpen a file for writing. Creates a new file if it does not exist or truncates the file if it exists."
      ],
      "metadata": {
        "id": "nIoiO8Lyos6-"
      }
    },
    {
      "cell_type": "markdown",
      "source": [
        "**4. What method takes a list argument and writes it to a CSV file?**\n",
        "\n",
        "**Ans:**\n",
        "\n",
        "writerows()\n",
        "This function takes a list of iterables as parameter and writes each item as a comma separated line of items in the file."
      ],
      "metadata": {
        "id": "MWf179rVpXq4"
      }
    },
    {
      "cell_type": "markdown",
      "source": [
        "**5. What do the keyword arguments delimiter and line terminator do?**\n",
        "\n",
        "**Ans.**\n",
        "The delimiter is the character that appears between cells on a row. By default, the delimiter for a CSV file is a comma. The line terminator is the character that comes at the end of a row."
      ],
      "metadata": {
        "id": "I6ayunu8p5rG"
      }
    },
    {
      "cell_type": "markdown",
      "source": [
        "**6. What function takes a string of JSON data and returns a Python data structure?**\n",
        "\n",
        "**Ans.**\n",
        "\n",
        "We use the json.loads() method to parse a JSON string and return a Python object such as a dictionary. The json.loads() method takes the file contents as a string."
      ],
      "metadata": {
        "id": "2MVOb1_TqFY8"
      }
    },
    {
      "cell_type": "markdown",
      "source": [
        "**7. What function takes a Python data structure and returns a string of JSON data?**\n",
        "\n",
        "**Ans:**\n",
        "Python json.loads() Method"
      ],
      "metadata": {
        "id": "p-zYDgpEqgL2"
      }
    }
  ]
}